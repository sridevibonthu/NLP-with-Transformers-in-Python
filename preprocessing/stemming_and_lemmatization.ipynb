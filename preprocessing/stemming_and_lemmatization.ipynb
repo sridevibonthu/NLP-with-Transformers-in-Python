{
  "nbformat": 4,
  "nbformat_minor": 0,
  "metadata": {
    "colab": {
      "name": "stemming and lemmatization.ipynb",
      "provenance": [],
      "authorship_tag": "ABX9TyN0q9xBpQJQ2TL/uBtDqMg/"
    },
    "kernelspec": {
      "name": "python3",
      "display_name": "Python 3"
    },
    "language_info": {
      "name": "python"
    }
  },
  "cells": [
    {
      "cell_type": "markdown",
      "source": [
        "## Stemming\n",
        "\n",
        "Stemming is a *text normalization* method used in NLP to simplify text before it is processed by a model. When stemming break the final few characters of a word in order to find a common form of the word. If we take the following sentence:"
      ],
      "metadata": {
        "id": "o1Sw_4ludtv2"
      }
    },
    {
      "cell_type": "code",
      "execution_count": null,
      "metadata": {
        "id": "IlwCzlnGWjaL"
      },
      "outputs": [],
      "source": [
        "txt = \"I am amazed by how amazingly amazing you are\"\n"
      ]
    },
    {
      "cell_type": "markdown",
      "source": [
        "We use different forms of the word **amaze** a total of three times. Each of these different forms is called an 'inflection', which is the modification of a word to slightly adjust the meaning or context of the word. When we tokenize this text we produce three different tokens for each inflection of happy, which is okay but in many applications this level of granularity in the semantic meaning of the word is not required and can damage model performance.\n",
        "\n",
        "Later, when we get to using more complex, sophisticated models (eg BERT), we will use different methods that maintain the inflection of each word - but it is important to understand stemming as it was a very important part of text preprocessing for a very long time, and still relevant to many applications.\n",
        "\n",
        "To apply stemming we will be using the NLTK package, which provides several different stemmers, we will test the **PorterStemmer** and **LancasterStemmer**.\n",
        "\n",
        "\n",
        "\n"
      ],
      "metadata": {
        "id": "6xMNzuOgeIzs"
      }
    },
    {
      "cell_type": "code",
      "source": [
        "words_to_stem = ['happy', 'happiest', 'happier', 'cactus', 'cactii', 'elephant', 'elephants', 'amazed', 'amazing', 'amazingly', 'cement', 'owed', 'maximum']\n",
        "\n",
        "from nltk.stem import PorterStemmer, LancasterStemmer\n",
        "\n",
        "porter = PorterStemmer()\n",
        "lancaster = LancasterStemmer()\n",
        "\n",
        "stemmed = [(word, porter.stem(word), lancaster.stem(word)) for word in words_to_stem]\n",
        "\n",
        "print(\"Word | Porter | Lancaster\")\n",
        "for stem in stemmed:\n",
        "    print(f\"{stem[0]} | {stem[1]} | {stem[2]}\")"
      ],
      "metadata": {
        "colab": {
          "base_uri": "https://localhost:8080/"
        },
        "id": "tIb7dd5cd5oV",
        "outputId": "de847c0e-957d-4d52-a785-46315be47786"
      },
      "execution_count": 2,
      "outputs": [
        {
          "output_type": "stream",
          "name": "stdout",
          "text": [
            "Word | Porter | Lancaster\n",
            "happy | happi | happy\n",
            "happiest | happiest | happiest\n",
            "happier | happier | happy\n",
            "cactus | cactu | cact\n",
            "cactii | cactii | cacti\n",
            "elephant | eleph | eleph\n",
            "elephants | eleph | eleph\n",
            "amazed | amaz | amaz\n",
            "amazing | amaz | amaz\n",
            "amazingly | amazingli | amaz\n",
            "cement | cement | cem\n",
            "owed | owe | ow\n",
            "maximum | maximum | maxim\n"
          ]
        }
      ]
    },
    {
      "cell_type": "markdown",
      "source": [
        "The **Porter stemmer** is a set of rules that strip common suffixes from the ends of words, each of these rules are applied on after the other and produce our Porter stemmed words. It is a simple stemmer, and very fast.\n",
        "\n",
        "The **Lancaster stemmer** contains a larger set of rules and rather than applying each rule one after the other will keep iterating through the list of rules and find a rule that matches the current condition, which will then delete or replace the ending of the word. The iterations will stop once no more rules can be applied to the word OR if the word starts with a vowel and only two characters remain OR if the word starts with a consonant and there are three characters remaining. The Lancaster stemmer is much more aggressive in its stemming, sometimes this is a good thing, sometimes not.\n",
        "\n",
        "We can see from the results of the two stemmers above that neither are perfect, and this is the case with all stemming algorithms."
      ],
      "metadata": {
        "id": "Xz3qjXiVeqpX"
      }
    },
    {
      "cell_type": "markdown",
      "source": [
        "## Lemmatization\n",
        "\n",
        "Lemmatization is very similiar to stemming in that it reduces a set of inflected words down to a common word. The difference is that lemmatization reduces inflections down to their real root words, which is called a *lemma*. If we take the words *'amaze', 'amazing', 'amazingly'*, the lemma of all of these is *'amaze'*. Compared to stemming which would usually return *'amaz'.* Generally lemmatization is seen as more advanced than stemming."
      ],
      "metadata": {
        "id": "8vXPYRdsekP3"
      }
    },
    {
      "cell_type": "code",
      "source": [
        "words = ['amaze', 'amazed', 'amazing']\n"
      ],
      "metadata": {
        "id": "PiZBOr_9efpH"
      },
      "execution_count": 3,
      "outputs": []
    },
    {
      "cell_type": "code",
      "source": [
        ""
      ],
      "metadata": {
        "id": "7nNQoV0tfaWV"
      },
      "execution_count": null,
      "outputs": []
    },
    {
      "cell_type": "markdown",
      "source": [
        "We will use NLTK again for our lemmatization. We also need to ensure we have the WordNet Database downloaded which will act as the lookup for our lemmatizer to ensure that it has produced a real lemma."
      ],
      "metadata": {
        "id": "8G6jQXBPfa9P"
      }
    },
    {
      "cell_type": "code",
      "source": [
        "import nltk\n",
        "\n",
        "nltk.download('wordnet')"
      ],
      "metadata": {
        "colab": {
          "base_uri": "https://localhost:8080/"
        },
        "id": "HnWE5RxOfcz5",
        "outputId": "d7419f96-bed1-4ca7-e636-b81b7f86e205"
      },
      "execution_count": 4,
      "outputs": [
        {
          "output_type": "stream",
          "name": "stdout",
          "text": [
            "[nltk_data] Downloading package wordnet to /root/nltk_data...\n",
            "[nltk_data]   Unzipping corpora/wordnet.zip.\n"
          ]
        },
        {
          "output_type": "execute_result",
          "data": {
            "text/plain": [
              "True"
            ]
          },
          "metadata": {},
          "execution_count": 4
        }
      ]
    },
    {
      "cell_type": "code",
      "source": [
        "from nltk.stem import WordNetLemmatizer\n",
        "\n",
        "lemmatizer = WordNetLemmatizer()\n",
        "\n",
        "[lemmatizer.lemmatize(word) for word in words]"
      ],
      "metadata": {
        "colab": {
          "base_uri": "https://localhost:8080/"
        },
        "id": "aLka7viufgbS",
        "outputId": "1e23e4ef-057b-4732-e042-6137dc8414ba"
      },
      "execution_count": 5,
      "outputs": [
        {
          "output_type": "execute_result",
          "data": {
            "text/plain": [
              "['amaze', 'amazed', 'amazing']"
            ]
          },
          "metadata": {},
          "execution_count": 5
        }
      ]
    },
    {
      "cell_type": "markdown",
      "source": [
        "Clearly nothing has happened, and that is because lemmatization requires that we also provide the *parts-of-speech (POS) tag*, which is the category of a word based on syntax. For example noun, adjective, or verb. In our case we could place each word as a verb, which we can then implement like so:"
      ],
      "metadata": {
        "id": "qVEdM5x7fpBL"
      }
    },
    {
      "cell_type": "code",
      "source": [
        "from nltk.corpus import wordnet\n",
        "\n",
        "[lemmatizer.lemmatize(word, wordnet.VERB) for word in words]"
      ],
      "metadata": {
        "colab": {
          "base_uri": "https://localhost:8080/"
        },
        "id": "MfGN8otPfkow",
        "outputId": "7d48143d-f4eb-4036-80e3-751d07d472cf"
      },
      "execution_count": 6,
      "outputs": [
        {
          "output_type": "execute_result",
          "data": {
            "text/plain": [
              "['amaze', 'amaze', 'amaze']"
            ]
          },
          "metadata": {},
          "execution_count": 6
        }
      ]
    },
    {
      "cell_type": "code",
      "source": [
        ""
      ],
      "metadata": {
        "id": "AqpXWLolf4sH"
      },
      "execution_count": null,
      "outputs": []
    }
  ]
}