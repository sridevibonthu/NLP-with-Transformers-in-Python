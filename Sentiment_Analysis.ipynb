{
  "nbformat": 4,
  "nbformat_minor": 0,
  "metadata": {
    "colab": {
      "name": "Sentiment Analysis.ipynb",
      "provenance": [],
      "authorship_tag": "ABX9TyM8usuWCAAEoy0S4HpCYpS9"
    },
    "kernelspec": {
      "name": "python3",
      "display_name": "Python 3"
    },
    "language_info": {
      "name": "python"
    },
    "widgets": {
      "application/vnd.jupyter.widget-state+json": {
        "9c84b0128c7b426f9de07af71a0391a1": {
          "model_module": "@jupyter-widgets/controls",
          "model_name": "HBoxModel",
          "model_module_version": "1.5.0",
          "state": {
            "_view_name": "HBoxView",
            "_dom_classes": [],
            "_model_name": "HBoxModel",
            "_view_module": "@jupyter-widgets/controls",
            "_model_module_version": "1.5.0",
            "_view_count": null,
            "_view_module_version": "1.5.0",
            "box_style": "",
            "layout": "IPY_MODEL_77bad42649a34a44a362878e17d2d009",
            "_model_module": "@jupyter-widgets/controls",
            "children": [
              "IPY_MODEL_4d7b1d202d6a4b64bcbd5fc23e644aed",
              "IPY_MODEL_2fb5b8ca387c4dd981883cdcb403cf7c",
              "IPY_MODEL_7a81413864a349ee90c66253297c6828"
            ]
          }
        },
        "77bad42649a34a44a362878e17d2d009": {
          "model_module": "@jupyter-widgets/base",
          "model_name": "LayoutModel",
          "model_module_version": "1.2.0",
          "state": {
            "_view_name": "LayoutView",
            "grid_template_rows": null,
            "right": null,
            "justify_content": null,
            "_view_module": "@jupyter-widgets/base",
            "overflow": null,
            "_model_module_version": "1.2.0",
            "_view_count": null,
            "flex_flow": null,
            "width": null,
            "min_width": null,
            "border": null,
            "align_items": null,
            "bottom": null,
            "_model_module": "@jupyter-widgets/base",
            "top": null,
            "grid_column": null,
            "overflow_y": null,
            "overflow_x": null,
            "grid_auto_flow": null,
            "grid_area": null,
            "grid_template_columns": null,
            "flex": null,
            "_model_name": "LayoutModel",
            "justify_items": null,
            "grid_row": null,
            "max_height": null,
            "align_content": null,
            "visibility": null,
            "align_self": null,
            "height": null,
            "min_height": null,
            "padding": null,
            "grid_auto_rows": null,
            "grid_gap": null,
            "max_width": null,
            "order": null,
            "_view_module_version": "1.2.0",
            "grid_template_areas": null,
            "object_position": null,
            "object_fit": null,
            "grid_auto_columns": null,
            "margin": null,
            "display": null,
            "left": null
          }
        },
        "4d7b1d202d6a4b64bcbd5fc23e644aed": {
          "model_module": "@jupyter-widgets/controls",
          "model_name": "HTMLModel",
          "model_module_version": "1.5.0",
          "state": {
            "_view_name": "HTMLView",
            "style": "IPY_MODEL_84d47e7581964952a292df6a4fe63283",
            "_dom_classes": [],
            "description": "",
            "_model_name": "HTMLModel",
            "placeholder": "​",
            "_view_module": "@jupyter-widgets/controls",
            "_model_module_version": "1.5.0",
            "value": "Downloading: 100%",
            "_view_count": null,
            "_view_module_version": "1.5.0",
            "description_tooltip": null,
            "_model_module": "@jupyter-widgets/controls",
            "layout": "IPY_MODEL_9cfc881aa4d242c9847102d6b14d4bb3"
          }
        },
        "2fb5b8ca387c4dd981883cdcb403cf7c": {
          "model_module": "@jupyter-widgets/controls",
          "model_name": "FloatProgressModel",
          "model_module_version": "1.5.0",
          "state": {
            "_view_name": "ProgressView",
            "style": "IPY_MODEL_31de2752fd0243bda039be3d5b6dc850",
            "_dom_classes": [],
            "description": "",
            "_model_name": "FloatProgressModel",
            "bar_style": "success",
            "max": 28,
            "_view_module": "@jupyter-widgets/controls",
            "_model_module_version": "1.5.0",
            "value": 28,
            "_view_count": null,
            "_view_module_version": "1.5.0",
            "orientation": "horizontal",
            "min": 0,
            "description_tooltip": null,
            "_model_module": "@jupyter-widgets/controls",
            "layout": "IPY_MODEL_5f3155500c744a8a8782b3a655e710f2"
          }
        },
        "7a81413864a349ee90c66253297c6828": {
          "model_module": "@jupyter-widgets/controls",
          "model_name": "HTMLModel",
          "model_module_version": "1.5.0",
          "state": {
            "_view_name": "HTMLView",
            "style": "IPY_MODEL_14e0decf555f4b4bbe401614b9e7d635",
            "_dom_classes": [],
            "description": "",
            "_model_name": "HTMLModel",
            "placeholder": "​",
            "_view_module": "@jupyter-widgets/controls",
            "_model_module_version": "1.5.0",
            "value": " 28.0/28.0 [00:00&lt;00:00, 684B/s]",
            "_view_count": null,
            "_view_module_version": "1.5.0",
            "description_tooltip": null,
            "_model_module": "@jupyter-widgets/controls",
            "layout": "IPY_MODEL_e178778a9f3245ce88fe72b04ae7a6cd"
          }
        },
        "84d47e7581964952a292df6a4fe63283": {
          "model_module": "@jupyter-widgets/controls",
          "model_name": "DescriptionStyleModel",
          "model_module_version": "1.5.0",
          "state": {
            "_view_name": "StyleView",
            "_model_name": "DescriptionStyleModel",
            "description_width": "",
            "_view_module": "@jupyter-widgets/base",
            "_model_module_version": "1.5.0",
            "_view_count": null,
            "_view_module_version": "1.2.0",
            "_model_module": "@jupyter-widgets/controls"
          }
        },
        "9cfc881aa4d242c9847102d6b14d4bb3": {
          "model_module": "@jupyter-widgets/base",
          "model_name": "LayoutModel",
          "model_module_version": "1.2.0",
          "state": {
            "_view_name": "LayoutView",
            "grid_template_rows": null,
            "right": null,
            "justify_content": null,
            "_view_module": "@jupyter-widgets/base",
            "overflow": null,
            "_model_module_version": "1.2.0",
            "_view_count": null,
            "flex_flow": null,
            "width": null,
            "min_width": null,
            "border": null,
            "align_items": null,
            "bottom": null,
            "_model_module": "@jupyter-widgets/base",
            "top": null,
            "grid_column": null,
            "overflow_y": null,
            "overflow_x": null,
            "grid_auto_flow": null,
            "grid_area": null,
            "grid_template_columns": null,
            "flex": null,
            "_model_name": "LayoutModel",
            "justify_items": null,
            "grid_row": null,
            "max_height": null,
            "align_content": null,
            "visibility": null,
            "align_self": null,
            "height": null,
            "min_height": null,
            "padding": null,
            "grid_auto_rows": null,
            "grid_gap": null,
            "max_width": null,
            "order": null,
            "_view_module_version": "1.2.0",
            "grid_template_areas": null,
            "object_position": null,
            "object_fit": null,
            "grid_auto_columns": null,
            "margin": null,
            "display": null,
            "left": null
          }
        },
        "31de2752fd0243bda039be3d5b6dc850": {
          "model_module": "@jupyter-widgets/controls",
          "model_name": "ProgressStyleModel",
          "model_module_version": "1.5.0",
          "state": {
            "_view_name": "StyleView",
            "_model_name": "ProgressStyleModel",
            "description_width": "",
            "_view_module": "@jupyter-widgets/base",
            "_model_module_version": "1.5.0",
            "_view_count": null,
            "_view_module_version": "1.2.0",
            "bar_color": null,
            "_model_module": "@jupyter-widgets/controls"
          }
        },
        "5f3155500c744a8a8782b3a655e710f2": {
          "model_module": "@jupyter-widgets/base",
          "model_name": "LayoutModel",
          "model_module_version": "1.2.0",
          "state": {
            "_view_name": "LayoutView",
            "grid_template_rows": null,
            "right": null,
            "justify_content": null,
            "_view_module": "@jupyter-widgets/base",
            "overflow": null,
            "_model_module_version": "1.2.0",
            "_view_count": null,
            "flex_flow": null,
            "width": null,
            "min_width": null,
            "border": null,
            "align_items": null,
            "bottom": null,
            "_model_module": "@jupyter-widgets/base",
            "top": null,
            "grid_column": null,
            "overflow_y": null,
            "overflow_x": null,
            "grid_auto_flow": null,
            "grid_area": null,
            "grid_template_columns": null,
            "flex": null,
            "_model_name": "LayoutModel",
            "justify_items": null,
            "grid_row": null,
            "max_height": null,
            "align_content": null,
            "visibility": null,
            "align_self": null,
            "height": null,
            "min_height": null,
            "padding": null,
            "grid_auto_rows": null,
            "grid_gap": null,
            "max_width": null,
            "order": null,
            "_view_module_version": "1.2.0",
            "grid_template_areas": null,
            "object_position": null,
            "object_fit": null,
            "grid_auto_columns": null,
            "margin": null,
            "display": null,
            "left": null
          }
        },
        "14e0decf555f4b4bbe401614b9e7d635": {
          "model_module": "@jupyter-widgets/controls",
          "model_name": "DescriptionStyleModel",
          "model_module_version": "1.5.0",
          "state": {
            "_view_name": "StyleView",
            "_model_name": "DescriptionStyleModel",
            "description_width": "",
            "_view_module": "@jupyter-widgets/base",
            "_model_module_version": "1.5.0",
            "_view_count": null,
            "_view_module_version": "1.2.0",
            "_model_module": "@jupyter-widgets/controls"
          }
        },
        "e178778a9f3245ce88fe72b04ae7a6cd": {
          "model_module": "@jupyter-widgets/base",
          "model_name": "LayoutModel",
          "model_module_version": "1.2.0",
          "state": {
            "_view_name": "LayoutView",
            "grid_template_rows": null,
            "right": null,
            "justify_content": null,
            "_view_module": "@jupyter-widgets/base",
            "overflow": null,
            "_model_module_version": "1.2.0",
            "_view_count": null,
            "flex_flow": null,
            "width": null,
            "min_width": null,
            "border": null,
            "align_items": null,
            "bottom": null,
            "_model_module": "@jupyter-widgets/base",
            "top": null,
            "grid_column": null,
            "overflow_y": null,
            "overflow_x": null,
            "grid_auto_flow": null,
            "grid_area": null,
            "grid_template_columns": null,
            "flex": null,
            "_model_name": "LayoutModel",
            "justify_items": null,
            "grid_row": null,
            "max_height": null,
            "align_content": null,
            "visibility": null,
            "align_self": null,
            "height": null,
            "min_height": null,
            "padding": null,
            "grid_auto_rows": null,
            "grid_gap": null,
            "max_width": null,
            "order": null,
            "_view_module_version": "1.2.0",
            "grid_template_areas": null,
            "object_position": null,
            "object_fit": null,
            "grid_auto_columns": null,
            "margin": null,
            "display": null,
            "left": null
          }
        },
        "06551ca9726445d8ac37a501c5c63a36": {
          "model_module": "@jupyter-widgets/controls",
          "model_name": "HBoxModel",
          "model_module_version": "1.5.0",
          "state": {
            "_view_name": "HBoxView",
            "_dom_classes": [],
            "_model_name": "HBoxModel",
            "_view_module": "@jupyter-widgets/controls",
            "_model_module_version": "1.5.0",
            "_view_count": null,
            "_view_module_version": "1.5.0",
            "box_style": "",
            "layout": "IPY_MODEL_806c8b602d8744b08faf24e1613eb777",
            "_model_module": "@jupyter-widgets/controls",
            "children": [
              "IPY_MODEL_29d8182f286f44c3b9163241a8f95886",
              "IPY_MODEL_41534cc8a2cb40be80d63a0bd94245ea",
              "IPY_MODEL_0da48c8645524e8589acac3e8e39dd3a"
            ]
          }
        },
        "806c8b602d8744b08faf24e1613eb777": {
          "model_module": "@jupyter-widgets/base",
          "model_name": "LayoutModel",
          "model_module_version": "1.2.0",
          "state": {
            "_view_name": "LayoutView",
            "grid_template_rows": null,
            "right": null,
            "justify_content": null,
            "_view_module": "@jupyter-widgets/base",
            "overflow": null,
            "_model_module_version": "1.2.0",
            "_view_count": null,
            "flex_flow": null,
            "width": null,
            "min_width": null,
            "border": null,
            "align_items": null,
            "bottom": null,
            "_model_module": "@jupyter-widgets/base",
            "top": null,
            "grid_column": null,
            "overflow_y": null,
            "overflow_x": null,
            "grid_auto_flow": null,
            "grid_area": null,
            "grid_template_columns": null,
            "flex": null,
            "_model_name": "LayoutModel",
            "justify_items": null,
            "grid_row": null,
            "max_height": null,
            "align_content": null,
            "visibility": null,
            "align_self": null,
            "height": null,
            "min_height": null,
            "padding": null,
            "grid_auto_rows": null,
            "grid_gap": null,
            "max_width": null,
            "order": null,
            "_view_module_version": "1.2.0",
            "grid_template_areas": null,
            "object_position": null,
            "object_fit": null,
            "grid_auto_columns": null,
            "margin": null,
            "display": null,
            "left": null
          }
        },
        "29d8182f286f44c3b9163241a8f95886": {
          "model_module": "@jupyter-widgets/controls",
          "model_name": "HTMLModel",
          "model_module_version": "1.5.0",
          "state": {
            "_view_name": "HTMLView",
            "style": "IPY_MODEL_9657ee6e8d664946ba386090d6a05721",
            "_dom_classes": [],
            "description": "",
            "_model_name": "HTMLModel",
            "placeholder": "​",
            "_view_module": "@jupyter-widgets/controls",
            "_model_module_version": "1.5.0",
            "value": "Downloading: 100%",
            "_view_count": null,
            "_view_module_version": "1.5.0",
            "description_tooltip": null,
            "_model_module": "@jupyter-widgets/controls",
            "layout": "IPY_MODEL_f8f0d17592fd47fb84d507e319551cdf"
          }
        },
        "41534cc8a2cb40be80d63a0bd94245ea": {
          "model_module": "@jupyter-widgets/controls",
          "model_name": "FloatProgressModel",
          "model_module_version": "1.5.0",
          "state": {
            "_view_name": "ProgressView",
            "style": "IPY_MODEL_44979343521f4127a415f8a925e74828",
            "_dom_classes": [],
            "description": "",
            "_model_name": "FloatProgressModel",
            "bar_style": "success",
            "max": 231508,
            "_view_module": "@jupyter-widgets/controls",
            "_model_module_version": "1.5.0",
            "value": 231508,
            "_view_count": null,
            "_view_module_version": "1.5.0",
            "orientation": "horizontal",
            "min": 0,
            "description_tooltip": null,
            "_model_module": "@jupyter-widgets/controls",
            "layout": "IPY_MODEL_21924fd81ba246b6a560736f7abe4e87"
          }
        },
        "0da48c8645524e8589acac3e8e39dd3a": {
          "model_module": "@jupyter-widgets/controls",
          "model_name": "HTMLModel",
          "model_module_version": "1.5.0",
          "state": {
            "_view_name": "HTMLView",
            "style": "IPY_MODEL_2bfeeb11719a4f719ac35bea4504aa25",
            "_dom_classes": [],
            "description": "",
            "_model_name": "HTMLModel",
            "placeholder": "​",
            "_view_module": "@jupyter-widgets/controls",
            "_model_module_version": "1.5.0",
            "value": " 226k/226k [00:00&lt;00:00, 620kB/s]",
            "_view_count": null,
            "_view_module_version": "1.5.0",
            "description_tooltip": null,
            "_model_module": "@jupyter-widgets/controls",
            "layout": "IPY_MODEL_cce4707a18224ea59f16389d70cfe19e"
          }
        },
        "9657ee6e8d664946ba386090d6a05721": {
          "model_module": "@jupyter-widgets/controls",
          "model_name": "DescriptionStyleModel",
          "model_module_version": "1.5.0",
          "state": {
            "_view_name": "StyleView",
            "_model_name": "DescriptionStyleModel",
            "description_width": "",
            "_view_module": "@jupyter-widgets/base",
            "_model_module_version": "1.5.0",
            "_view_count": null,
            "_view_module_version": "1.2.0",
            "_model_module": "@jupyter-widgets/controls"
          }
        },
        "f8f0d17592fd47fb84d507e319551cdf": {
          "model_module": "@jupyter-widgets/base",
          "model_name": "LayoutModel",
          "model_module_version": "1.2.0",
          "state": {
            "_view_name": "LayoutView",
            "grid_template_rows": null,
            "right": null,
            "justify_content": null,
            "_view_module": "@jupyter-widgets/base",
            "overflow": null,
            "_model_module_version": "1.2.0",
            "_view_count": null,
            "flex_flow": null,
            "width": null,
            "min_width": null,
            "border": null,
            "align_items": null,
            "bottom": null,
            "_model_module": "@jupyter-widgets/base",
            "top": null,
            "grid_column": null,
            "overflow_y": null,
            "overflow_x": null,
            "grid_auto_flow": null,
            "grid_area": null,
            "grid_template_columns": null,
            "flex": null,
            "_model_name": "LayoutModel",
            "justify_items": null,
            "grid_row": null,
            "max_height": null,
            "align_content": null,
            "visibility": null,
            "align_self": null,
            "height": null,
            "min_height": null,
            "padding": null,
            "grid_auto_rows": null,
            "grid_gap": null,
            "max_width": null,
            "order": null,
            "_view_module_version": "1.2.0",
            "grid_template_areas": null,
            "object_position": null,
            "object_fit": null,
            "grid_auto_columns": null,
            "margin": null,
            "display": null,
            "left": null
          }
        },
        "44979343521f4127a415f8a925e74828": {
          "model_module": "@jupyter-widgets/controls",
          "model_name": "ProgressStyleModel",
          "model_module_version": "1.5.0",
          "state": {
            "_view_name": "StyleView",
            "_model_name": "ProgressStyleModel",
            "description_width": "",
            "_view_module": "@jupyter-widgets/base",
            "_model_module_version": "1.5.0",
            "_view_count": null,
            "_view_module_version": "1.2.0",
            "bar_color": null,
            "_model_module": "@jupyter-widgets/controls"
          }
        },
        "21924fd81ba246b6a560736f7abe4e87": {
          "model_module": "@jupyter-widgets/base",
          "model_name": "LayoutModel",
          "model_module_version": "1.2.0",
          "state": {
            "_view_name": "LayoutView",
            "grid_template_rows": null,
            "right": null,
            "justify_content": null,
            "_view_module": "@jupyter-widgets/base",
            "overflow": null,
            "_model_module_version": "1.2.0",
            "_view_count": null,
            "flex_flow": null,
            "width": null,
            "min_width": null,
            "border": null,
            "align_items": null,
            "bottom": null,
            "_model_module": "@jupyter-widgets/base",
            "top": null,
            "grid_column": null,
            "overflow_y": null,
            "overflow_x": null,
            "grid_auto_flow": null,
            "grid_area": null,
            "grid_template_columns": null,
            "flex": null,
            "_model_name": "LayoutModel",
            "justify_items": null,
            "grid_row": null,
            "max_height": null,
            "align_content": null,
            "visibility": null,
            "align_self": null,
            "height": null,
            "min_height": null,
            "padding": null,
            "grid_auto_rows": null,
            "grid_gap": null,
            "max_width": null,
            "order": null,
            "_view_module_version": "1.2.0",
            "grid_template_areas": null,
            "object_position": null,
            "object_fit": null,
            "grid_auto_columns": null,
            "margin": null,
            "display": null,
            "left": null
          }
        },
        "2bfeeb11719a4f719ac35bea4504aa25": {
          "model_module": "@jupyter-widgets/controls",
          "model_name": "DescriptionStyleModel",
          "model_module_version": "1.5.0",
          "state": {
            "_view_name": "StyleView",
            "_model_name": "DescriptionStyleModel",
            "description_width": "",
            "_view_module": "@jupyter-widgets/base",
            "_model_module_version": "1.5.0",
            "_view_count": null,
            "_view_module_version": "1.2.0",
            "_model_module": "@jupyter-widgets/controls"
          }
        },
        "cce4707a18224ea59f16389d70cfe19e": {
          "model_module": "@jupyter-widgets/base",
          "model_name": "LayoutModel",
          "model_module_version": "1.2.0",
          "state": {
            "_view_name": "LayoutView",
            "grid_template_rows": null,
            "right": null,
            "justify_content": null,
            "_view_module": "@jupyter-widgets/base",
            "overflow": null,
            "_model_module_version": "1.2.0",
            "_view_count": null,
            "flex_flow": null,
            "width": null,
            "min_width": null,
            "border": null,
            "align_items": null,
            "bottom": null,
            "_model_module": "@jupyter-widgets/base",
            "top": null,
            "grid_column": null,
            "overflow_y": null,
            "overflow_x": null,
            "grid_auto_flow": null,
            "grid_area": null,
            "grid_template_columns": null,
            "flex": null,
            "_model_name": "LayoutModel",
            "justify_items": null,
            "grid_row": null,
            "max_height": null,
            "align_content": null,
            "visibility": null,
            "align_self": null,
            "height": null,
            "min_height": null,
            "padding": null,
            "grid_auto_rows": null,
            "grid_gap": null,
            "max_width": null,
            "order": null,
            "_view_module_version": "1.2.0",
            "grid_template_areas": null,
            "object_position": null,
            "object_fit": null,
            "grid_auto_columns": null,
            "margin": null,
            "display": null,
            "left": null
          }
        },
        "8b4a8604db6b4c36b1b3e66b1eddf616": {
          "model_module": "@jupyter-widgets/controls",
          "model_name": "HBoxModel",
          "model_module_version": "1.5.0",
          "state": {
            "_view_name": "HBoxView",
            "_dom_classes": [],
            "_model_name": "HBoxModel",
            "_view_module": "@jupyter-widgets/controls",
            "_model_module_version": "1.5.0",
            "_view_count": null,
            "_view_module_version": "1.5.0",
            "box_style": "",
            "layout": "IPY_MODEL_55ad1aa899f14646af15ebddf34ebcc3",
            "_model_module": "@jupyter-widgets/controls",
            "children": [
              "IPY_MODEL_35c4f247d1704b0986871790c2d420eb",
              "IPY_MODEL_ac3b39fecd9d4470bf76e3276a56a674",
              "IPY_MODEL_7f805325be97400eb6528fb8dbacfbd1"
            ]
          }
        },
        "55ad1aa899f14646af15ebddf34ebcc3": {
          "model_module": "@jupyter-widgets/base",
          "model_name": "LayoutModel",
          "model_module_version": "1.2.0",
          "state": {
            "_view_name": "LayoutView",
            "grid_template_rows": null,
            "right": null,
            "justify_content": null,
            "_view_module": "@jupyter-widgets/base",
            "overflow": null,
            "_model_module_version": "1.2.0",
            "_view_count": null,
            "flex_flow": null,
            "width": null,
            "min_width": null,
            "border": null,
            "align_items": null,
            "bottom": null,
            "_model_module": "@jupyter-widgets/base",
            "top": null,
            "grid_column": null,
            "overflow_y": null,
            "overflow_x": null,
            "grid_auto_flow": null,
            "grid_area": null,
            "grid_template_columns": null,
            "flex": null,
            "_model_name": "LayoutModel",
            "justify_items": null,
            "grid_row": null,
            "max_height": null,
            "align_content": null,
            "visibility": null,
            "align_self": null,
            "height": null,
            "min_height": null,
            "padding": null,
            "grid_auto_rows": null,
            "grid_gap": null,
            "max_width": null,
            "order": null,
            "_view_module_version": "1.2.0",
            "grid_template_areas": null,
            "object_position": null,
            "object_fit": null,
            "grid_auto_columns": null,
            "margin": null,
            "display": null,
            "left": null
          }
        },
        "35c4f247d1704b0986871790c2d420eb": {
          "model_module": "@jupyter-widgets/controls",
          "model_name": "HTMLModel",
          "model_module_version": "1.5.0",
          "state": {
            "_view_name": "HTMLView",
            "style": "IPY_MODEL_e8e306e3a1aa41b8abd2bc4cd7e68d31",
            "_dom_classes": [],
            "description": "",
            "_model_name": "HTMLModel",
            "placeholder": "​",
            "_view_module": "@jupyter-widgets/controls",
            "_model_module_version": "1.5.0",
            "value": "Downloading: 100%",
            "_view_count": null,
            "_view_module_version": "1.5.0",
            "description_tooltip": null,
            "_model_module": "@jupyter-widgets/controls",
            "layout": "IPY_MODEL_5748daf770244650b51f85bc5043ed9e"
          }
        },
        "ac3b39fecd9d4470bf76e3276a56a674": {
          "model_module": "@jupyter-widgets/controls",
          "model_name": "FloatProgressModel",
          "model_module_version": "1.5.0",
          "state": {
            "_view_name": "ProgressView",
            "style": "IPY_MODEL_bb19543cbbc34444a897b099c85d3198",
            "_dom_classes": [],
            "description": "",
            "_model_name": "FloatProgressModel",
            "bar_style": "success",
            "max": 466062,
            "_view_module": "@jupyter-widgets/controls",
            "_model_module_version": "1.5.0",
            "value": 466062,
            "_view_count": null,
            "_view_module_version": "1.5.0",
            "orientation": "horizontal",
            "min": 0,
            "description_tooltip": null,
            "_model_module": "@jupyter-widgets/controls",
            "layout": "IPY_MODEL_c9d5723f552f48499eb3cac00a457a35"
          }
        },
        "7f805325be97400eb6528fb8dbacfbd1": {
          "model_module": "@jupyter-widgets/controls",
          "model_name": "HTMLModel",
          "model_module_version": "1.5.0",
          "state": {
            "_view_name": "HTMLView",
            "style": "IPY_MODEL_c75679fbec52482ba462605d7eb48f4c",
            "_dom_classes": [],
            "description": "",
            "_model_name": "HTMLModel",
            "placeholder": "​",
            "_view_module": "@jupyter-widgets/controls",
            "_model_module_version": "1.5.0",
            "value": " 455k/455k [00:00&lt;00:00, 669kB/s]",
            "_view_count": null,
            "_view_module_version": "1.5.0",
            "description_tooltip": null,
            "_model_module": "@jupyter-widgets/controls",
            "layout": "IPY_MODEL_231affb67227422e8f3f0be531b9d5f4"
          }
        },
        "e8e306e3a1aa41b8abd2bc4cd7e68d31": {
          "model_module": "@jupyter-widgets/controls",
          "model_name": "DescriptionStyleModel",
          "model_module_version": "1.5.0",
          "state": {
            "_view_name": "StyleView",
            "_model_name": "DescriptionStyleModel",
            "description_width": "",
            "_view_module": "@jupyter-widgets/base",
            "_model_module_version": "1.5.0",
            "_view_count": null,
            "_view_module_version": "1.2.0",
            "_model_module": "@jupyter-widgets/controls"
          }
        },
        "5748daf770244650b51f85bc5043ed9e": {
          "model_module": "@jupyter-widgets/base",
          "model_name": "LayoutModel",
          "model_module_version": "1.2.0",
          "state": {
            "_view_name": "LayoutView",
            "grid_template_rows": null,
            "right": null,
            "justify_content": null,
            "_view_module": "@jupyter-widgets/base",
            "overflow": null,
            "_model_module_version": "1.2.0",
            "_view_count": null,
            "flex_flow": null,
            "width": null,
            "min_width": null,
            "border": null,
            "align_items": null,
            "bottom": null,
            "_model_module": "@jupyter-widgets/base",
            "top": null,
            "grid_column": null,
            "overflow_y": null,
            "overflow_x": null,
            "grid_auto_flow": null,
            "grid_area": null,
            "grid_template_columns": null,
            "flex": null,
            "_model_name": "LayoutModel",
            "justify_items": null,
            "grid_row": null,
            "max_height": null,
            "align_content": null,
            "visibility": null,
            "align_self": null,
            "height": null,
            "min_height": null,
            "padding": null,
            "grid_auto_rows": null,
            "grid_gap": null,
            "max_width": null,
            "order": null,
            "_view_module_version": "1.2.0",
            "grid_template_areas": null,
            "object_position": null,
            "object_fit": null,
            "grid_auto_columns": null,
            "margin": null,
            "display": null,
            "left": null
          }
        },
        "bb19543cbbc34444a897b099c85d3198": {
          "model_module": "@jupyter-widgets/controls",
          "model_name": "ProgressStyleModel",
          "model_module_version": "1.5.0",
          "state": {
            "_view_name": "StyleView",
            "_model_name": "ProgressStyleModel",
            "description_width": "",
            "_view_module": "@jupyter-widgets/base",
            "_model_module_version": "1.5.0",
            "_view_count": null,
            "_view_module_version": "1.2.0",
            "bar_color": null,
            "_model_module": "@jupyter-widgets/controls"
          }
        },
        "c9d5723f552f48499eb3cac00a457a35": {
          "model_module": "@jupyter-widgets/base",
          "model_name": "LayoutModel",
          "model_module_version": "1.2.0",
          "state": {
            "_view_name": "LayoutView",
            "grid_template_rows": null,
            "right": null,
            "justify_content": null,
            "_view_module": "@jupyter-widgets/base",
            "overflow": null,
            "_model_module_version": "1.2.0",
            "_view_count": null,
            "flex_flow": null,
            "width": null,
            "min_width": null,
            "border": null,
            "align_items": null,
            "bottom": null,
            "_model_module": "@jupyter-widgets/base",
            "top": null,
            "grid_column": null,
            "overflow_y": null,
            "overflow_x": null,
            "grid_auto_flow": null,
            "grid_area": null,
            "grid_template_columns": null,
            "flex": null,
            "_model_name": "LayoutModel",
            "justify_items": null,
            "grid_row": null,
            "max_height": null,
            "align_content": null,
            "visibility": null,
            "align_self": null,
            "height": null,
            "min_height": null,
            "padding": null,
            "grid_auto_rows": null,
            "grid_gap": null,
            "max_width": null,
            "order": null,
            "_view_module_version": "1.2.0",
            "grid_template_areas": null,
            "object_position": null,
            "object_fit": null,
            "grid_auto_columns": null,
            "margin": null,
            "display": null,
            "left": null
          }
        },
        "c75679fbec52482ba462605d7eb48f4c": {
          "model_module": "@jupyter-widgets/controls",
          "model_name": "DescriptionStyleModel",
          "model_module_version": "1.5.0",
          "state": {
            "_view_name": "StyleView",
            "_model_name": "DescriptionStyleModel",
            "description_width": "",
            "_view_module": "@jupyter-widgets/base",
            "_model_module_version": "1.5.0",
            "_view_count": null,
            "_view_module_version": "1.2.0",
            "_model_module": "@jupyter-widgets/controls"
          }
        },
        "231affb67227422e8f3f0be531b9d5f4": {
          "model_module": "@jupyter-widgets/base",
          "model_name": "LayoutModel",
          "model_module_version": "1.2.0",
          "state": {
            "_view_name": "LayoutView",
            "grid_template_rows": null,
            "right": null,
            "justify_content": null,
            "_view_module": "@jupyter-widgets/base",
            "overflow": null,
            "_model_module_version": "1.2.0",
            "_view_count": null,
            "flex_flow": null,
            "width": null,
            "min_width": null,
            "border": null,
            "align_items": null,
            "bottom": null,
            "_model_module": "@jupyter-widgets/base",
            "top": null,
            "grid_column": null,
            "overflow_y": null,
            "overflow_x": null,
            "grid_auto_flow": null,
            "grid_area": null,
            "grid_template_columns": null,
            "flex": null,
            "_model_name": "LayoutModel",
            "justify_items": null,
            "grid_row": null,
            "max_height": null,
            "align_content": null,
            "visibility": null,
            "align_self": null,
            "height": null,
            "min_height": null,
            "padding": null,
            "grid_auto_rows": null,
            "grid_gap": null,
            "max_width": null,
            "order": null,
            "_view_module_version": "1.2.0",
            "grid_template_areas": null,
            "object_position": null,
            "object_fit": null,
            "grid_auto_columns": null,
            "margin": null,
            "display": null,
            "left": null
          }
        },
        "9c10a22397b54f6881978d7d010fc0b4": {
          "model_module": "@jupyter-widgets/controls",
          "model_name": "HBoxModel",
          "model_module_version": "1.5.0",
          "state": {
            "_view_name": "HBoxView",
            "_dom_classes": [],
            "_model_name": "HBoxModel",
            "_view_module": "@jupyter-widgets/controls",
            "_model_module_version": "1.5.0",
            "_view_count": null,
            "_view_module_version": "1.5.0",
            "box_style": "",
            "layout": "IPY_MODEL_1857a051b7cc4da282bf3909057cde90",
            "_model_module": "@jupyter-widgets/controls",
            "children": [
              "IPY_MODEL_eee619d9ef5b49a49b0b9f0ab4a2834b",
              "IPY_MODEL_cff36c3d9cbd442984dce8e230b99697",
              "IPY_MODEL_2633ba91114748c49b41ab301e064af9"
            ]
          }
        },
        "1857a051b7cc4da282bf3909057cde90": {
          "model_module": "@jupyter-widgets/base",
          "model_name": "LayoutModel",
          "model_module_version": "1.2.0",
          "state": {
            "_view_name": "LayoutView",
            "grid_template_rows": null,
            "right": null,
            "justify_content": null,
            "_view_module": "@jupyter-widgets/base",
            "overflow": null,
            "_model_module_version": "1.2.0",
            "_view_count": null,
            "flex_flow": null,
            "width": null,
            "min_width": null,
            "border": null,
            "align_items": null,
            "bottom": null,
            "_model_module": "@jupyter-widgets/base",
            "top": null,
            "grid_column": null,
            "overflow_y": null,
            "overflow_x": null,
            "grid_auto_flow": null,
            "grid_area": null,
            "grid_template_columns": null,
            "flex": null,
            "_model_name": "LayoutModel",
            "justify_items": null,
            "grid_row": null,
            "max_height": null,
            "align_content": null,
            "visibility": null,
            "align_self": null,
            "height": null,
            "min_height": null,
            "padding": null,
            "grid_auto_rows": null,
            "grid_gap": null,
            "max_width": null,
            "order": null,
            "_view_module_version": "1.2.0",
            "grid_template_areas": null,
            "object_position": null,
            "object_fit": null,
            "grid_auto_columns": null,
            "margin": null,
            "display": null,
            "left": null
          }
        },
        "eee619d9ef5b49a49b0b9f0ab4a2834b": {
          "model_module": "@jupyter-widgets/controls",
          "model_name": "HTMLModel",
          "model_module_version": "1.5.0",
          "state": {
            "_view_name": "HTMLView",
            "style": "IPY_MODEL_f1357b4ba41c47b9953f9def29304383",
            "_dom_classes": [],
            "description": "",
            "_model_name": "HTMLModel",
            "placeholder": "​",
            "_view_module": "@jupyter-widgets/controls",
            "_model_module_version": "1.5.0",
            "value": "Downloading: 100%",
            "_view_count": null,
            "_view_module_version": "1.5.0",
            "description_tooltip": null,
            "_model_module": "@jupyter-widgets/controls",
            "layout": "IPY_MODEL_9076cc0ef48542d9909df0f941fff751"
          }
        },
        "cff36c3d9cbd442984dce8e230b99697": {
          "model_module": "@jupyter-widgets/controls",
          "model_name": "FloatProgressModel",
          "model_module_version": "1.5.0",
          "state": {
            "_view_name": "ProgressView",
            "style": "IPY_MODEL_dc368688ef3a4f6388d7ee505bbc585a",
            "_dom_classes": [],
            "description": "",
            "_model_name": "FloatProgressModel",
            "bar_style": "success",
            "max": 483,
            "_view_module": "@jupyter-widgets/controls",
            "_model_module_version": "1.5.0",
            "value": 483,
            "_view_count": null,
            "_view_module_version": "1.5.0",
            "orientation": "horizontal",
            "min": 0,
            "description_tooltip": null,
            "_model_module": "@jupyter-widgets/controls",
            "layout": "IPY_MODEL_dc4f7382f671400886ae9eb8da35b4f5"
          }
        },
        "2633ba91114748c49b41ab301e064af9": {
          "model_module": "@jupyter-widgets/controls",
          "model_name": "HTMLModel",
          "model_module_version": "1.5.0",
          "state": {
            "_view_name": "HTMLView",
            "style": "IPY_MODEL_28efa25c24f04f0b92cb20aab5850a4f",
            "_dom_classes": [],
            "description": "",
            "_model_name": "HTMLModel",
            "placeholder": "​",
            "_view_module": "@jupyter-widgets/controls",
            "_model_module_version": "1.5.0",
            "value": " 483/483 [00:00&lt;00:00, 10.8kB/s]",
            "_view_count": null,
            "_view_module_version": "1.5.0",
            "description_tooltip": null,
            "_model_module": "@jupyter-widgets/controls",
            "layout": "IPY_MODEL_c81bb51f1d4341c3b8e08d656b0941a4"
          }
        },
        "f1357b4ba41c47b9953f9def29304383": {
          "model_module": "@jupyter-widgets/controls",
          "model_name": "DescriptionStyleModel",
          "model_module_version": "1.5.0",
          "state": {
            "_view_name": "StyleView",
            "_model_name": "DescriptionStyleModel",
            "description_width": "",
            "_view_module": "@jupyter-widgets/base",
            "_model_module_version": "1.5.0",
            "_view_count": null,
            "_view_module_version": "1.2.0",
            "_model_module": "@jupyter-widgets/controls"
          }
        },
        "9076cc0ef48542d9909df0f941fff751": {
          "model_module": "@jupyter-widgets/base",
          "model_name": "LayoutModel",
          "model_module_version": "1.2.0",
          "state": {
            "_view_name": "LayoutView",
            "grid_template_rows": null,
            "right": null,
            "justify_content": null,
            "_view_module": "@jupyter-widgets/base",
            "overflow": null,
            "_model_module_version": "1.2.0",
            "_view_count": null,
            "flex_flow": null,
            "width": null,
            "min_width": null,
            "border": null,
            "align_items": null,
            "bottom": null,
            "_model_module": "@jupyter-widgets/base",
            "top": null,
            "grid_column": null,
            "overflow_y": null,
            "overflow_x": null,
            "grid_auto_flow": null,
            "grid_area": null,
            "grid_template_columns": null,
            "flex": null,
            "_model_name": "LayoutModel",
            "justify_items": null,
            "grid_row": null,
            "max_height": null,
            "align_content": null,
            "visibility": null,
            "align_self": null,
            "height": null,
            "min_height": null,
            "padding": null,
            "grid_auto_rows": null,
            "grid_gap": null,
            "max_width": null,
            "order": null,
            "_view_module_version": "1.2.0",
            "grid_template_areas": null,
            "object_position": null,
            "object_fit": null,
            "grid_auto_columns": null,
            "margin": null,
            "display": null,
            "left": null
          }
        },
        "dc368688ef3a4f6388d7ee505bbc585a": {
          "model_module": "@jupyter-widgets/controls",
          "model_name": "ProgressStyleModel",
          "model_module_version": "1.5.0",
          "state": {
            "_view_name": "StyleView",
            "_model_name": "ProgressStyleModel",
            "description_width": "",
            "_view_module": "@jupyter-widgets/base",
            "_model_module_version": "1.5.0",
            "_view_count": null,
            "_view_module_version": "1.2.0",
            "bar_color": null,
            "_model_module": "@jupyter-widgets/controls"
          }
        },
        "dc4f7382f671400886ae9eb8da35b4f5": {
          "model_module": "@jupyter-widgets/base",
          "model_name": "LayoutModel",
          "model_module_version": "1.2.0",
          "state": {
            "_view_name": "LayoutView",
            "grid_template_rows": null,
            "right": null,
            "justify_content": null,
            "_view_module": "@jupyter-widgets/base",
            "overflow": null,
            "_model_module_version": "1.2.0",
            "_view_count": null,
            "flex_flow": null,
            "width": null,
            "min_width": null,
            "border": null,
            "align_items": null,
            "bottom": null,
            "_model_module": "@jupyter-widgets/base",
            "top": null,
            "grid_column": null,
            "overflow_y": null,
            "overflow_x": null,
            "grid_auto_flow": null,
            "grid_area": null,
            "grid_template_columns": null,
            "flex": null,
            "_model_name": "LayoutModel",
            "justify_items": null,
            "grid_row": null,
            "max_height": null,
            "align_content": null,
            "visibility": null,
            "align_self": null,
            "height": null,
            "min_height": null,
            "padding": null,
            "grid_auto_rows": null,
            "grid_gap": null,
            "max_width": null,
            "order": null,
            "_view_module_version": "1.2.0",
            "grid_template_areas": null,
            "object_position": null,
            "object_fit": null,
            "grid_auto_columns": null,
            "margin": null,
            "display": null,
            "left": null
          }
        },
        "28efa25c24f04f0b92cb20aab5850a4f": {
          "model_module": "@jupyter-widgets/controls",
          "model_name": "DescriptionStyleModel",
          "model_module_version": "1.5.0",
          "state": {
            "_view_name": "StyleView",
            "_model_name": "DescriptionStyleModel",
            "description_width": "",
            "_view_module": "@jupyter-widgets/base",
            "_model_module_version": "1.5.0",
            "_view_count": null,
            "_view_module_version": "1.2.0",
            "_model_module": "@jupyter-widgets/controls"
          }
        },
        "c81bb51f1d4341c3b8e08d656b0941a4": {
          "model_module": "@jupyter-widgets/base",
          "model_name": "LayoutModel",
          "model_module_version": "1.2.0",
          "state": {
            "_view_name": "LayoutView",
            "grid_template_rows": null,
            "right": null,
            "justify_content": null,
            "_view_module": "@jupyter-widgets/base",
            "overflow": null,
            "_model_module_version": "1.2.0",
            "_view_count": null,
            "flex_flow": null,
            "width": null,
            "min_width": null,
            "border": null,
            "align_items": null,
            "bottom": null,
            "_model_module": "@jupyter-widgets/base",
            "top": null,
            "grid_column": null,
            "overflow_y": null,
            "overflow_x": null,
            "grid_auto_flow": null,
            "grid_area": null,
            "grid_template_columns": null,
            "flex": null,
            "_model_name": "LayoutModel",
            "justify_items": null,
            "grid_row": null,
            "max_height": null,
            "align_content": null,
            "visibility": null,
            "align_self": null,
            "height": null,
            "min_height": null,
            "padding": null,
            "grid_auto_rows": null,
            "grid_gap": null,
            "max_width": null,
            "order": null,
            "_view_module_version": "1.2.0",
            "grid_template_areas": null,
            "object_position": null,
            "object_fit": null,
            "grid_auto_columns": null,
            "margin": null,
            "display": null,
            "left": null
          }
        },
        "040811b10a5c4bdf832722418b3bcd12": {
          "model_module": "@jupyter-widgets/controls",
          "model_name": "HBoxModel",
          "model_module_version": "1.5.0",
          "state": {
            "_view_name": "HBoxView",
            "_dom_classes": [],
            "_model_name": "HBoxModel",
            "_view_module": "@jupyter-widgets/controls",
            "_model_module_version": "1.5.0",
            "_view_count": null,
            "_view_module_version": "1.5.0",
            "box_style": "",
            "layout": "IPY_MODEL_49775604295e41548b913d1c4e616f7e",
            "_model_module": "@jupyter-widgets/controls",
            "children": [
              "IPY_MODEL_6493060c69514eaa9ad63e00ecdcbc79",
              "IPY_MODEL_6e0f014e300b48cbb7490a2e71c22a5a",
              "IPY_MODEL_8e8e240f3bb2409ebbc1363c2d74a7df"
            ]
          }
        },
        "49775604295e41548b913d1c4e616f7e": {
          "model_module": "@jupyter-widgets/base",
          "model_name": "LayoutModel",
          "model_module_version": "1.2.0",
          "state": {
            "_view_name": "LayoutView",
            "grid_template_rows": null,
            "right": null,
            "justify_content": null,
            "_view_module": "@jupyter-widgets/base",
            "overflow": null,
            "_model_module_version": "1.2.0",
            "_view_count": null,
            "flex_flow": null,
            "width": null,
            "min_width": null,
            "border": null,
            "align_items": null,
            "bottom": null,
            "_model_module": "@jupyter-widgets/base",
            "top": null,
            "grid_column": null,
            "overflow_y": null,
            "overflow_x": null,
            "grid_auto_flow": null,
            "grid_area": null,
            "grid_template_columns": null,
            "flex": null,
            "_model_name": "LayoutModel",
            "justify_items": null,
            "grid_row": null,
            "max_height": null,
            "align_content": null,
            "visibility": null,
            "align_self": null,
            "height": null,
            "min_height": null,
            "padding": null,
            "grid_auto_rows": null,
            "grid_gap": null,
            "max_width": null,
            "order": null,
            "_view_module_version": "1.2.0",
            "grid_template_areas": null,
            "object_position": null,
            "object_fit": null,
            "grid_auto_columns": null,
            "margin": null,
            "display": null,
            "left": null
          }
        },
        "6493060c69514eaa9ad63e00ecdcbc79": {
          "model_module": "@jupyter-widgets/controls",
          "model_name": "HTMLModel",
          "model_module_version": "1.5.0",
          "state": {
            "_view_name": "HTMLView",
            "style": "IPY_MODEL_7a30e20aa3cf441192094e1f5bfe5d5b",
            "_dom_classes": [],
            "description": "",
            "_model_name": "HTMLModel",
            "placeholder": "​",
            "_view_module": "@jupyter-widgets/controls",
            "_model_module_version": "1.5.0",
            "value": "Downloading: 100%",
            "_view_count": null,
            "_view_module_version": "1.5.0",
            "description_tooltip": null,
            "_model_module": "@jupyter-widgets/controls",
            "layout": "IPY_MODEL_9f34f4a288e445dfb4fcac9c3b3390f0"
          }
        },
        "6e0f014e300b48cbb7490a2e71c22a5a": {
          "model_module": "@jupyter-widgets/controls",
          "model_name": "FloatProgressModel",
          "model_module_version": "1.5.0",
          "state": {
            "_view_name": "ProgressView",
            "style": "IPY_MODEL_a4778fbb91c04b9d814169a7b7bae0ec",
            "_dom_classes": [],
            "description": "",
            "_model_name": "FloatProgressModel",
            "bar_style": "success",
            "max": 231508,
            "_view_module": "@jupyter-widgets/controls",
            "_model_module_version": "1.5.0",
            "value": 231508,
            "_view_count": null,
            "_view_module_version": "1.5.0",
            "orientation": "horizontal",
            "min": 0,
            "description_tooltip": null,
            "_model_module": "@jupyter-widgets/controls",
            "layout": "IPY_MODEL_83a628a6b6a04d27afc6ea194886cb65"
          }
        },
        "8e8e240f3bb2409ebbc1363c2d74a7df": {
          "model_module": "@jupyter-widgets/controls",
          "model_name": "HTMLModel",
          "model_module_version": "1.5.0",
          "state": {
            "_view_name": "HTMLView",
            "style": "IPY_MODEL_7ec444f453cd428eb1aa2597164bf002",
            "_dom_classes": [],
            "description": "",
            "_model_name": "HTMLModel",
            "placeholder": "​",
            "_view_module": "@jupyter-widgets/controls",
            "_model_module_version": "1.5.0",
            "value": " 226k/226k [00:00&lt;00:00, 465kB/s]",
            "_view_count": null,
            "_view_module_version": "1.5.0",
            "description_tooltip": null,
            "_model_module": "@jupyter-widgets/controls",
            "layout": "IPY_MODEL_1a3875e7715c4a7a8c4cfb02757f8e84"
          }
        },
        "7a30e20aa3cf441192094e1f5bfe5d5b": {
          "model_module": "@jupyter-widgets/controls",
          "model_name": "DescriptionStyleModel",
          "model_module_version": "1.5.0",
          "state": {
            "_view_name": "StyleView",
            "_model_name": "DescriptionStyleModel",
            "description_width": "",
            "_view_module": "@jupyter-widgets/base",
            "_model_module_version": "1.5.0",
            "_view_count": null,
            "_view_module_version": "1.2.0",
            "_model_module": "@jupyter-widgets/controls"
          }
        },
        "9f34f4a288e445dfb4fcac9c3b3390f0": {
          "model_module": "@jupyter-widgets/base",
          "model_name": "LayoutModel",
          "model_module_version": "1.2.0",
          "state": {
            "_view_name": "LayoutView",
            "grid_template_rows": null,
            "right": null,
            "justify_content": null,
            "_view_module": "@jupyter-widgets/base",
            "overflow": null,
            "_model_module_version": "1.2.0",
            "_view_count": null,
            "flex_flow": null,
            "width": null,
            "min_width": null,
            "border": null,
            "align_items": null,
            "bottom": null,
            "_model_module": "@jupyter-widgets/base",
            "top": null,
            "grid_column": null,
            "overflow_y": null,
            "overflow_x": null,
            "grid_auto_flow": null,
            "grid_area": null,
            "grid_template_columns": null,
            "flex": null,
            "_model_name": "LayoutModel",
            "justify_items": null,
            "grid_row": null,
            "max_height": null,
            "align_content": null,
            "visibility": null,
            "align_self": null,
            "height": null,
            "min_height": null,
            "padding": null,
            "grid_auto_rows": null,
            "grid_gap": null,
            "max_width": null,
            "order": null,
            "_view_module_version": "1.2.0",
            "grid_template_areas": null,
            "object_position": null,
            "object_fit": null,
            "grid_auto_columns": null,
            "margin": null,
            "display": null,
            "left": null
          }
        },
        "a4778fbb91c04b9d814169a7b7bae0ec": {
          "model_module": "@jupyter-widgets/controls",
          "model_name": "ProgressStyleModel",
          "model_module_version": "1.5.0",
          "state": {
            "_view_name": "StyleView",
            "_model_name": "ProgressStyleModel",
            "description_width": "",
            "_view_module": "@jupyter-widgets/base",
            "_model_module_version": "1.5.0",
            "_view_count": null,
            "_view_module_version": "1.2.0",
            "bar_color": null,
            "_model_module": "@jupyter-widgets/controls"
          }
        },
        "83a628a6b6a04d27afc6ea194886cb65": {
          "model_module": "@jupyter-widgets/base",
          "model_name": "LayoutModel",
          "model_module_version": "1.2.0",
          "state": {
            "_view_name": "LayoutView",
            "grid_template_rows": null,
            "right": null,
            "justify_content": null,
            "_view_module": "@jupyter-widgets/base",
            "overflow": null,
            "_model_module_version": "1.2.0",
            "_view_count": null,
            "flex_flow": null,
            "width": null,
            "min_width": null,
            "border": null,
            "align_items": null,
            "bottom": null,
            "_model_module": "@jupyter-widgets/base",
            "top": null,
            "grid_column": null,
            "overflow_y": null,
            "overflow_x": null,
            "grid_auto_flow": null,
            "grid_area": null,
            "grid_template_columns": null,
            "flex": null,
            "_model_name": "LayoutModel",
            "justify_items": null,
            "grid_row": null,
            "max_height": null,
            "align_content": null,
            "visibility": null,
            "align_self": null,
            "height": null,
            "min_height": null,
            "padding": null,
            "grid_auto_rows": null,
            "grid_gap": null,
            "max_width": null,
            "order": null,
            "_view_module_version": "1.2.0",
            "grid_template_areas": null,
            "object_position": null,
            "object_fit": null,
            "grid_auto_columns": null,
            "margin": null,
            "display": null,
            "left": null
          }
        },
        "7ec444f453cd428eb1aa2597164bf002": {
          "model_module": "@jupyter-widgets/controls",
          "model_name": "DescriptionStyleModel",
          "model_module_version": "1.5.0",
          "state": {
            "_view_name": "StyleView",
            "_model_name": "DescriptionStyleModel",
            "description_width": "",
            "_view_module": "@jupyter-widgets/base",
            "_model_module_version": "1.5.0",
            "_view_count": null,
            "_view_module_version": "1.2.0",
            "_model_module": "@jupyter-widgets/controls"
          }
        },
        "1a3875e7715c4a7a8c4cfb02757f8e84": {
          "model_module": "@jupyter-widgets/base",
          "model_name": "LayoutModel",
          "model_module_version": "1.2.0",
          "state": {
            "_view_name": "LayoutView",
            "grid_template_rows": null,
            "right": null,
            "justify_content": null,
            "_view_module": "@jupyter-widgets/base",
            "overflow": null,
            "_model_module_version": "1.2.0",
            "_view_count": null,
            "flex_flow": null,
            "width": null,
            "min_width": null,
            "border": null,
            "align_items": null,
            "bottom": null,
            "_model_module": "@jupyter-widgets/base",
            "top": null,
            "grid_column": null,
            "overflow_y": null,
            "overflow_x": null,
            "grid_auto_flow": null,
            "grid_area": null,
            "grid_template_columns": null,
            "flex": null,
            "_model_name": "LayoutModel",
            "justify_items": null,
            "grid_row": null,
            "max_height": null,
            "align_content": null,
            "visibility": null,
            "align_self": null,
            "height": null,
            "min_height": null,
            "padding": null,
            "grid_auto_rows": null,
            "grid_gap": null,
            "max_width": null,
            "order": null,
            "_view_module_version": "1.2.0",
            "grid_template_areas": null,
            "object_position": null,
            "object_fit": null,
            "grid_auto_columns": null,
            "margin": null,
            "display": null,
            "left": null
          }
        },
        "c9dec983399d40a4a043f5481c13016a": {
          "model_module": "@jupyter-widgets/controls",
          "model_name": "HBoxModel",
          "model_module_version": "1.5.0",
          "state": {
            "_view_name": "HBoxView",
            "_dom_classes": [],
            "_model_name": "HBoxModel",
            "_view_module": "@jupyter-widgets/controls",
            "_model_module_version": "1.5.0",
            "_view_count": null,
            "_view_module_version": "1.5.0",
            "box_style": "",
            "layout": "IPY_MODEL_b42c5e462dcf4daf905bbb9417b7a9aa",
            "_model_module": "@jupyter-widgets/controls",
            "children": [
              "IPY_MODEL_a613531bd44a42cf84b08d9b3b0c95cd",
              "IPY_MODEL_b7dec57c0e4c4d659b8e6019b85bb206",
              "IPY_MODEL_87bd92a96b5947b2a1d8b3c42f41a999"
            ]
          }
        },
        "b42c5e462dcf4daf905bbb9417b7a9aa": {
          "model_module": "@jupyter-widgets/base",
          "model_name": "LayoutModel",
          "model_module_version": "1.2.0",
          "state": {
            "_view_name": "LayoutView",
            "grid_template_rows": null,
            "right": null,
            "justify_content": null,
            "_view_module": "@jupyter-widgets/base",
            "overflow": null,
            "_model_module_version": "1.2.0",
            "_view_count": null,
            "flex_flow": null,
            "width": null,
            "min_width": null,
            "border": null,
            "align_items": null,
            "bottom": null,
            "_model_module": "@jupyter-widgets/base",
            "top": null,
            "grid_column": null,
            "overflow_y": null,
            "overflow_x": null,
            "grid_auto_flow": null,
            "grid_area": null,
            "grid_template_columns": null,
            "flex": null,
            "_model_name": "LayoutModel",
            "justify_items": null,
            "grid_row": null,
            "max_height": null,
            "align_content": null,
            "visibility": null,
            "align_self": null,
            "height": null,
            "min_height": null,
            "padding": null,
            "grid_auto_rows": null,
            "grid_gap": null,
            "max_width": null,
            "order": null,
            "_view_module_version": "1.2.0",
            "grid_template_areas": null,
            "object_position": null,
            "object_fit": null,
            "grid_auto_columns": null,
            "margin": null,
            "display": null,
            "left": null
          }
        },
        "a613531bd44a42cf84b08d9b3b0c95cd": {
          "model_module": "@jupyter-widgets/controls",
          "model_name": "HTMLModel",
          "model_module_version": "1.5.0",
          "state": {
            "_view_name": "HTMLView",
            "style": "IPY_MODEL_e214bb30611d4ca79e0685b7c8249b04",
            "_dom_classes": [],
            "description": "",
            "_model_name": "HTMLModel",
            "placeholder": "​",
            "_view_module": "@jupyter-widgets/controls",
            "_model_module_version": "1.5.0",
            "value": "Downloading: 100%",
            "_view_count": null,
            "_view_module_version": "1.5.0",
            "description_tooltip": null,
            "_model_module": "@jupyter-widgets/controls",
            "layout": "IPY_MODEL_df904d1e77634a5e96a675190f5c89bf"
          }
        },
        "b7dec57c0e4c4d659b8e6019b85bb206": {
          "model_module": "@jupyter-widgets/controls",
          "model_name": "FloatProgressModel",
          "model_module_version": "1.5.0",
          "state": {
            "_view_name": "ProgressView",
            "style": "IPY_MODEL_8eadedbbb16942559b6de6ed94531e96",
            "_dom_classes": [],
            "description": "",
            "_model_name": "FloatProgressModel",
            "bar_style": "success",
            "max": 112,
            "_view_module": "@jupyter-widgets/controls",
            "_model_module_version": "1.5.0",
            "value": 112,
            "_view_count": null,
            "_view_module_version": "1.5.0",
            "orientation": "horizontal",
            "min": 0,
            "description_tooltip": null,
            "_model_module": "@jupyter-widgets/controls",
            "layout": "IPY_MODEL_e512e0ecda9a4a2fada071b1cde10ff4"
          }
        },
        "87bd92a96b5947b2a1d8b3c42f41a999": {
          "model_module": "@jupyter-widgets/controls",
          "model_name": "HTMLModel",
          "model_module_version": "1.5.0",
          "state": {
            "_view_name": "HTMLView",
            "style": "IPY_MODEL_47736bce96d042c4aa9bcfff630c4ad1",
            "_dom_classes": [],
            "description": "",
            "_model_name": "HTMLModel",
            "placeholder": "​",
            "_view_module": "@jupyter-widgets/controls",
            "_model_module_version": "1.5.0",
            "value": " 112/112 [00:00&lt;00:00, 2.49kB/s]",
            "_view_count": null,
            "_view_module_version": "1.5.0",
            "description_tooltip": null,
            "_model_module": "@jupyter-widgets/controls",
            "layout": "IPY_MODEL_14c4dcc9684342fd9d4e7c45179a5e38"
          }
        },
        "e214bb30611d4ca79e0685b7c8249b04": {
          "model_module": "@jupyter-widgets/controls",
          "model_name": "DescriptionStyleModel",
          "model_module_version": "1.5.0",
          "state": {
            "_view_name": "StyleView",
            "_model_name": "DescriptionStyleModel",
            "description_width": "",
            "_view_module": "@jupyter-widgets/base",
            "_model_module_version": "1.5.0",
            "_view_count": null,
            "_view_module_version": "1.2.0",
            "_model_module": "@jupyter-widgets/controls"
          }
        },
        "df904d1e77634a5e96a675190f5c89bf": {
          "model_module": "@jupyter-widgets/base",
          "model_name": "LayoutModel",
          "model_module_version": "1.2.0",
          "state": {
            "_view_name": "LayoutView",
            "grid_template_rows": null,
            "right": null,
            "justify_content": null,
            "_view_module": "@jupyter-widgets/base",
            "overflow": null,
            "_model_module_version": "1.2.0",
            "_view_count": null,
            "flex_flow": null,
            "width": null,
            "min_width": null,
            "border": null,
            "align_items": null,
            "bottom": null,
            "_model_module": "@jupyter-widgets/base",
            "top": null,
            "grid_column": null,
            "overflow_y": null,
            "overflow_x": null,
            "grid_auto_flow": null,
            "grid_area": null,
            "grid_template_columns": null,
            "flex": null,
            "_model_name": "LayoutModel",
            "justify_items": null,
            "grid_row": null,
            "max_height": null,
            "align_content": null,
            "visibility": null,
            "align_self": null,
            "height": null,
            "min_height": null,
            "padding": null,
            "grid_auto_rows": null,
            "grid_gap": null,
            "max_width": null,
            "order": null,
            "_view_module_version": "1.2.0",
            "grid_template_areas": null,
            "object_position": null,
            "object_fit": null,
            "grid_auto_columns": null,
            "margin": null,
            "display": null,
            "left": null
          }
        },
        "8eadedbbb16942559b6de6ed94531e96": {
          "model_module": "@jupyter-widgets/controls",
          "model_name": "ProgressStyleModel",
          "model_module_version": "1.5.0",
          "state": {
            "_view_name": "StyleView",
            "_model_name": "ProgressStyleModel",
            "description_width": "",
            "_view_module": "@jupyter-widgets/base",
            "_model_module_version": "1.5.0",
            "_view_count": null,
            "_view_module_version": "1.2.0",
            "bar_color": null,
            "_model_module": "@jupyter-widgets/controls"
          }
        },
        "e512e0ecda9a4a2fada071b1cde10ff4": {
          "model_module": "@jupyter-widgets/base",
          "model_name": "LayoutModel",
          "model_module_version": "1.2.0",
          "state": {
            "_view_name": "LayoutView",
            "grid_template_rows": null,
            "right": null,
            "justify_content": null,
            "_view_module": "@jupyter-widgets/base",
            "overflow": null,
            "_model_module_version": "1.2.0",
            "_view_count": null,
            "flex_flow": null,
            "width": null,
            "min_width": null,
            "border": null,
            "align_items": null,
            "bottom": null,
            "_model_module": "@jupyter-widgets/base",
            "top": null,
            "grid_column": null,
            "overflow_y": null,
            "overflow_x": null,
            "grid_auto_flow": null,
            "grid_area": null,
            "grid_template_columns": null,
            "flex": null,
            "_model_name": "LayoutModel",
            "justify_items": null,
            "grid_row": null,
            "max_height": null,
            "align_content": null,
            "visibility": null,
            "align_self": null,
            "height": null,
            "min_height": null,
            "padding": null,
            "grid_auto_rows": null,
            "grid_gap": null,
            "max_width": null,
            "order": null,
            "_view_module_version": "1.2.0",
            "grid_template_areas": null,
            "object_position": null,
            "object_fit": null,
            "grid_auto_columns": null,
            "margin": null,
            "display": null,
            "left": null
          }
        },
        "47736bce96d042c4aa9bcfff630c4ad1": {
          "model_module": "@jupyter-widgets/controls",
          "model_name": "DescriptionStyleModel",
          "model_module_version": "1.5.0",
          "state": {
            "_view_name": "StyleView",
            "_model_name": "DescriptionStyleModel",
            "description_width": "",
            "_view_module": "@jupyter-widgets/base",
            "_model_module_version": "1.5.0",
            "_view_count": null,
            "_view_module_version": "1.2.0",
            "_model_module": "@jupyter-widgets/controls"
          }
        },
        "14c4dcc9684342fd9d4e7c45179a5e38": {
          "model_module": "@jupyter-widgets/base",
          "model_name": "LayoutModel",
          "model_module_version": "1.2.0",
          "state": {
            "_view_name": "LayoutView",
            "grid_template_rows": null,
            "right": null,
            "justify_content": null,
            "_view_module": "@jupyter-widgets/base",
            "overflow": null,
            "_model_module_version": "1.2.0",
            "_view_count": null,
            "flex_flow": null,
            "width": null,
            "min_width": null,
            "border": null,
            "align_items": null,
            "bottom": null,
            "_model_module": "@jupyter-widgets/base",
            "top": null,
            "grid_column": null,
            "overflow_y": null,
            "overflow_x": null,
            "grid_auto_flow": null,
            "grid_area": null,
            "grid_template_columns": null,
            "flex": null,
            "_model_name": "LayoutModel",
            "justify_items": null,
            "grid_row": null,
            "max_height": null,
            "align_content": null,
            "visibility": null,
            "align_self": null,
            "height": null,
            "min_height": null,
            "padding": null,
            "grid_auto_rows": null,
            "grid_gap": null,
            "max_width": null,
            "order": null,
            "_view_module_version": "1.2.0",
            "grid_template_areas": null,
            "object_position": null,
            "object_fit": null,
            "grid_auto_columns": null,
            "margin": null,
            "display": null,
            "left": null
          }
        },
        "62699a6e14d04dcd93f2e57509b4eb24": {
          "model_module": "@jupyter-widgets/controls",
          "model_name": "HBoxModel",
          "model_module_version": "1.5.0",
          "state": {
            "_view_name": "HBoxView",
            "_dom_classes": [],
            "_model_name": "HBoxModel",
            "_view_module": "@jupyter-widgets/controls",
            "_model_module_version": "1.5.0",
            "_view_count": null,
            "_view_module_version": "1.5.0",
            "box_style": "",
            "layout": "IPY_MODEL_f8d4f938b7c9465f905fc97e197697a2",
            "_model_module": "@jupyter-widgets/controls",
            "children": [
              "IPY_MODEL_5d0fa21c37ba411f95871408ef765d5e",
              "IPY_MODEL_498838b465e14b20a49060f56599c5b1",
              "IPY_MODEL_70635ad4b8ed46fba7faf3206a65629d"
            ]
          }
        },
        "f8d4f938b7c9465f905fc97e197697a2": {
          "model_module": "@jupyter-widgets/base",
          "model_name": "LayoutModel",
          "model_module_version": "1.2.0",
          "state": {
            "_view_name": "LayoutView",
            "grid_template_rows": null,
            "right": null,
            "justify_content": null,
            "_view_module": "@jupyter-widgets/base",
            "overflow": null,
            "_model_module_version": "1.2.0",
            "_view_count": null,
            "flex_flow": null,
            "width": null,
            "min_width": null,
            "border": null,
            "align_items": null,
            "bottom": null,
            "_model_module": "@jupyter-widgets/base",
            "top": null,
            "grid_column": null,
            "overflow_y": null,
            "overflow_x": null,
            "grid_auto_flow": null,
            "grid_area": null,
            "grid_template_columns": null,
            "flex": null,
            "_model_name": "LayoutModel",
            "justify_items": null,
            "grid_row": null,
            "max_height": null,
            "align_content": null,
            "visibility": null,
            "align_self": null,
            "height": null,
            "min_height": null,
            "padding": null,
            "grid_auto_rows": null,
            "grid_gap": null,
            "max_width": null,
            "order": null,
            "_view_module_version": "1.2.0",
            "grid_template_areas": null,
            "object_position": null,
            "object_fit": null,
            "grid_auto_columns": null,
            "margin": null,
            "display": null,
            "left": null
          }
        },
        "5d0fa21c37ba411f95871408ef765d5e": {
          "model_module": "@jupyter-widgets/controls",
          "model_name": "HTMLModel",
          "model_module_version": "1.5.0",
          "state": {
            "_view_name": "HTMLView",
            "style": "IPY_MODEL_14dfeeb4f515452c940285a999f5081f",
            "_dom_classes": [],
            "description": "",
            "_model_name": "HTMLModel",
            "placeholder": "​",
            "_view_module": "@jupyter-widgets/controls",
            "_model_module_version": "1.5.0",
            "value": "Downloading: 100%",
            "_view_count": null,
            "_view_module_version": "1.5.0",
            "description_tooltip": null,
            "_model_module": "@jupyter-widgets/controls",
            "layout": "IPY_MODEL_a6b1e545756c41c7aaa29fcfcd00db8e"
          }
        },
        "498838b465e14b20a49060f56599c5b1": {
          "model_module": "@jupyter-widgets/controls",
          "model_name": "FloatProgressModel",
          "model_module_version": "1.5.0",
          "state": {
            "_view_name": "ProgressView",
            "style": "IPY_MODEL_ee352d64770549018822d6302515f1eb",
            "_dom_classes": [],
            "description": "",
            "_model_name": "FloatProgressModel",
            "bar_style": "success",
            "max": 252,
            "_view_module": "@jupyter-widgets/controls",
            "_model_module_version": "1.5.0",
            "value": 252,
            "_view_count": null,
            "_view_module_version": "1.5.0",
            "orientation": "horizontal",
            "min": 0,
            "description_tooltip": null,
            "_model_module": "@jupyter-widgets/controls",
            "layout": "IPY_MODEL_973a232ded364c869eb05ca04b2599bc"
          }
        },
        "70635ad4b8ed46fba7faf3206a65629d": {
          "model_module": "@jupyter-widgets/controls",
          "model_name": "HTMLModel",
          "model_module_version": "1.5.0",
          "state": {
            "_view_name": "HTMLView",
            "style": "IPY_MODEL_3fab38f5aba04a03ae66ab852f767284",
            "_dom_classes": [],
            "description": "",
            "_model_name": "HTMLModel",
            "placeholder": "​",
            "_view_module": "@jupyter-widgets/controls",
            "_model_module_version": "1.5.0",
            "value": " 252/252 [00:00&lt;00:00, 5.87kB/s]",
            "_view_count": null,
            "_view_module_version": "1.5.0",
            "description_tooltip": null,
            "_model_module": "@jupyter-widgets/controls",
            "layout": "IPY_MODEL_64270640ad5c4cbea8fa9d82b002e582"
          }
        },
        "14dfeeb4f515452c940285a999f5081f": {
          "model_module": "@jupyter-widgets/controls",
          "model_name": "DescriptionStyleModel",
          "model_module_version": "1.5.0",
          "state": {
            "_view_name": "StyleView",
            "_model_name": "DescriptionStyleModel",
            "description_width": "",
            "_view_module": "@jupyter-widgets/base",
            "_model_module_version": "1.5.0",
            "_view_count": null,
            "_view_module_version": "1.2.0",
            "_model_module": "@jupyter-widgets/controls"
          }
        },
        "a6b1e545756c41c7aaa29fcfcd00db8e": {
          "model_module": "@jupyter-widgets/base",
          "model_name": "LayoutModel",
          "model_module_version": "1.2.0",
          "state": {
            "_view_name": "LayoutView",
            "grid_template_rows": null,
            "right": null,
            "justify_content": null,
            "_view_module": "@jupyter-widgets/base",
            "overflow": null,
            "_model_module_version": "1.2.0",
            "_view_count": null,
            "flex_flow": null,
            "width": null,
            "min_width": null,
            "border": null,
            "align_items": null,
            "bottom": null,
            "_model_module": "@jupyter-widgets/base",
            "top": null,
            "grid_column": null,
            "overflow_y": null,
            "overflow_x": null,
            "grid_auto_flow": null,
            "grid_area": null,
            "grid_template_columns": null,
            "flex": null,
            "_model_name": "LayoutModel",
            "justify_items": null,
            "grid_row": null,
            "max_height": null,
            "align_content": null,
            "visibility": null,
            "align_self": null,
            "height": null,
            "min_height": null,
            "padding": null,
            "grid_auto_rows": null,
            "grid_gap": null,
            "max_width": null,
            "order": null,
            "_view_module_version": "1.2.0",
            "grid_template_areas": null,
            "object_position": null,
            "object_fit": null,
            "grid_auto_columns": null,
            "margin": null,
            "display": null,
            "left": null
          }
        },
        "ee352d64770549018822d6302515f1eb": {
          "model_module": "@jupyter-widgets/controls",
          "model_name": "ProgressStyleModel",
          "model_module_version": "1.5.0",
          "state": {
            "_view_name": "StyleView",
            "_model_name": "ProgressStyleModel",
            "description_width": "",
            "_view_module": "@jupyter-widgets/base",
            "_model_module_version": "1.5.0",
            "_view_count": null,
            "_view_module_version": "1.2.0",
            "bar_color": null,
            "_model_module": "@jupyter-widgets/controls"
          }
        },
        "973a232ded364c869eb05ca04b2599bc": {
          "model_module": "@jupyter-widgets/base",
          "model_name": "LayoutModel",
          "model_module_version": "1.2.0",
          "state": {
            "_view_name": "LayoutView",
            "grid_template_rows": null,
            "right": null,
            "justify_content": null,
            "_view_module": "@jupyter-widgets/base",
            "overflow": null,
            "_model_module_version": "1.2.0",
            "_view_count": null,
            "flex_flow": null,
            "width": null,
            "min_width": null,
            "border": null,
            "align_items": null,
            "bottom": null,
            "_model_module": "@jupyter-widgets/base",
            "top": null,
            "grid_column": null,
            "overflow_y": null,
            "overflow_x": null,
            "grid_auto_flow": null,
            "grid_area": null,
            "grid_template_columns": null,
            "flex": null,
            "_model_name": "LayoutModel",
            "justify_items": null,
            "grid_row": null,
            "max_height": null,
            "align_content": null,
            "visibility": null,
            "align_self": null,
            "height": null,
            "min_height": null,
            "padding": null,
            "grid_auto_rows": null,
            "grid_gap": null,
            "max_width": null,
            "order": null,
            "_view_module_version": "1.2.0",
            "grid_template_areas": null,
            "object_position": null,
            "object_fit": null,
            "grid_auto_columns": null,
            "margin": null,
            "display": null,
            "left": null
          }
        },
        "3fab38f5aba04a03ae66ab852f767284": {
          "model_module": "@jupyter-widgets/controls",
          "model_name": "DescriptionStyleModel",
          "model_module_version": "1.5.0",
          "state": {
            "_view_name": "StyleView",
            "_model_name": "DescriptionStyleModel",
            "description_width": "",
            "_view_module": "@jupyter-widgets/base",
            "_model_module_version": "1.5.0",
            "_view_count": null,
            "_view_module_version": "1.2.0",
            "_model_module": "@jupyter-widgets/controls"
          }
        },
        "64270640ad5c4cbea8fa9d82b002e582": {
          "model_module": "@jupyter-widgets/base",
          "model_name": "LayoutModel",
          "model_module_version": "1.2.0",
          "state": {
            "_view_name": "LayoutView",
            "grid_template_rows": null,
            "right": null,
            "justify_content": null,
            "_view_module": "@jupyter-widgets/base",
            "overflow": null,
            "_model_module_version": "1.2.0",
            "_view_count": null,
            "flex_flow": null,
            "width": null,
            "min_width": null,
            "border": null,
            "align_items": null,
            "bottom": null,
            "_model_module": "@jupyter-widgets/base",
            "top": null,
            "grid_column": null,
            "overflow_y": null,
            "overflow_x": null,
            "grid_auto_flow": null,
            "grid_area": null,
            "grid_template_columns": null,
            "flex": null,
            "_model_name": "LayoutModel",
            "justify_items": null,
            "grid_row": null,
            "max_height": null,
            "align_content": null,
            "visibility": null,
            "align_self": null,
            "height": null,
            "min_height": null,
            "padding": null,
            "grid_auto_rows": null,
            "grid_gap": null,
            "max_width": null,
            "order": null,
            "_view_module_version": "1.2.0",
            "grid_template_areas": null,
            "object_position": null,
            "object_fit": null,
            "grid_auto_columns": null,
            "margin": null,
            "display": null,
            "left": null
          }
        },
        "f8d308494a334429a63ff28e0005e9f3": {
          "model_module": "@jupyter-widgets/controls",
          "model_name": "HBoxModel",
          "model_module_version": "1.5.0",
          "state": {
            "_view_name": "HBoxView",
            "_dom_classes": [],
            "_model_name": "HBoxModel",
            "_view_module": "@jupyter-widgets/controls",
            "_model_module_version": "1.5.0",
            "_view_count": null,
            "_view_module_version": "1.5.0",
            "box_style": "",
            "layout": "IPY_MODEL_e419f347e2ac4040a202438496412bfb",
            "_model_module": "@jupyter-widgets/controls",
            "children": [
              "IPY_MODEL_661a7265192e4afc90f047f2b81e1f8b",
              "IPY_MODEL_ad0ee814063d4ee88d1c61a501768510",
              "IPY_MODEL_6dbf13da53ee478cb78b01a1a0d1db30"
            ]
          }
        },
        "e419f347e2ac4040a202438496412bfb": {
          "model_module": "@jupyter-widgets/base",
          "model_name": "LayoutModel",
          "model_module_version": "1.2.0",
          "state": {
            "_view_name": "LayoutView",
            "grid_template_rows": null,
            "right": null,
            "justify_content": null,
            "_view_module": "@jupyter-widgets/base",
            "overflow": null,
            "_model_module_version": "1.2.0",
            "_view_count": null,
            "flex_flow": null,
            "width": null,
            "min_width": null,
            "border": null,
            "align_items": null,
            "bottom": null,
            "_model_module": "@jupyter-widgets/base",
            "top": null,
            "grid_column": null,
            "overflow_y": null,
            "overflow_x": null,
            "grid_auto_flow": null,
            "grid_area": null,
            "grid_template_columns": null,
            "flex": null,
            "_model_name": "LayoutModel",
            "justify_items": null,
            "grid_row": null,
            "max_height": null,
            "align_content": null,
            "visibility": null,
            "align_self": null,
            "height": null,
            "min_height": null,
            "padding": null,
            "grid_auto_rows": null,
            "grid_gap": null,
            "max_width": null,
            "order": null,
            "_view_module_version": "1.2.0",
            "grid_template_areas": null,
            "object_position": null,
            "object_fit": null,
            "grid_auto_columns": null,
            "margin": null,
            "display": null,
            "left": null
          }
        },
        "661a7265192e4afc90f047f2b81e1f8b": {
          "model_module": "@jupyter-widgets/controls",
          "model_name": "HTMLModel",
          "model_module_version": "1.5.0",
          "state": {
            "_view_name": "HTMLView",
            "style": "IPY_MODEL_4ff529ab3d0743f48b04013aef6382ab",
            "_dom_classes": [],
            "description": "",
            "_model_name": "HTMLModel",
            "placeholder": "​",
            "_view_module": "@jupyter-widgets/controls",
            "_model_module_version": "1.5.0",
            "value": "Downloading: 100%",
            "_view_count": null,
            "_view_module_version": "1.5.0",
            "description_tooltip": null,
            "_model_module": "@jupyter-widgets/controls",
            "layout": "IPY_MODEL_00b8af20d08748dfaa57d27447682e04"
          }
        },
        "ad0ee814063d4ee88d1c61a501768510": {
          "model_module": "@jupyter-widgets/controls",
          "model_name": "FloatProgressModel",
          "model_module_version": "1.5.0",
          "state": {
            "_view_name": "ProgressView",
            "style": "IPY_MODEL_f354b9718e5e4f529d490e89c3f2f126",
            "_dom_classes": [],
            "description": "",
            "_model_name": "FloatProgressModel",
            "bar_style": "success",
            "max": 758,
            "_view_module": "@jupyter-widgets/controls",
            "_model_module_version": "1.5.0",
            "value": 758,
            "_view_count": null,
            "_view_module_version": "1.5.0",
            "orientation": "horizontal",
            "min": 0,
            "description_tooltip": null,
            "_model_module": "@jupyter-widgets/controls",
            "layout": "IPY_MODEL_7f331e54d097412896d6b6e3e7e9062f"
          }
        },
        "6dbf13da53ee478cb78b01a1a0d1db30": {
          "model_module": "@jupyter-widgets/controls",
          "model_name": "HTMLModel",
          "model_module_version": "1.5.0",
          "state": {
            "_view_name": "HTMLView",
            "style": "IPY_MODEL_3e4d5188c50b44cd8eac755ccc5846c9",
            "_dom_classes": [],
            "description": "",
            "_model_name": "HTMLModel",
            "placeholder": "​",
            "_view_module": "@jupyter-widgets/controls",
            "_model_module_version": "1.5.0",
            "value": " 758/758 [00:00&lt;00:00, 18.3kB/s]",
            "_view_count": null,
            "_view_module_version": "1.5.0",
            "description_tooltip": null,
            "_model_module": "@jupyter-widgets/controls",
            "layout": "IPY_MODEL_f937b7201bab422288b528132f6de64e"
          }
        },
        "4ff529ab3d0743f48b04013aef6382ab": {
          "model_module": "@jupyter-widgets/controls",
          "model_name": "DescriptionStyleModel",
          "model_module_version": "1.5.0",
          "state": {
            "_view_name": "StyleView",
            "_model_name": "DescriptionStyleModel",
            "description_width": "",
            "_view_module": "@jupyter-widgets/base",
            "_model_module_version": "1.5.0",
            "_view_count": null,
            "_view_module_version": "1.2.0",
            "_model_module": "@jupyter-widgets/controls"
          }
        },
        "00b8af20d08748dfaa57d27447682e04": {
          "model_module": "@jupyter-widgets/base",
          "model_name": "LayoutModel",
          "model_module_version": "1.2.0",
          "state": {
            "_view_name": "LayoutView",
            "grid_template_rows": null,
            "right": null,
            "justify_content": null,
            "_view_module": "@jupyter-widgets/base",
            "overflow": null,
            "_model_module_version": "1.2.0",
            "_view_count": null,
            "flex_flow": null,
            "width": null,
            "min_width": null,
            "border": null,
            "align_items": null,
            "bottom": null,
            "_model_module": "@jupyter-widgets/base",
            "top": null,
            "grid_column": null,
            "overflow_y": null,
            "overflow_x": null,
            "grid_auto_flow": null,
            "grid_area": null,
            "grid_template_columns": null,
            "flex": null,
            "_model_name": "LayoutModel",
            "justify_items": null,
            "grid_row": null,
            "max_height": null,
            "align_content": null,
            "visibility": null,
            "align_self": null,
            "height": null,
            "min_height": null,
            "padding": null,
            "grid_auto_rows": null,
            "grid_gap": null,
            "max_width": null,
            "order": null,
            "_view_module_version": "1.2.0",
            "grid_template_areas": null,
            "object_position": null,
            "object_fit": null,
            "grid_auto_columns": null,
            "margin": null,
            "display": null,
            "left": null
          }
        },
        "f354b9718e5e4f529d490e89c3f2f126": {
          "model_module": "@jupyter-widgets/controls",
          "model_name": "ProgressStyleModel",
          "model_module_version": "1.5.0",
          "state": {
            "_view_name": "StyleView",
            "_model_name": "ProgressStyleModel",
            "description_width": "",
            "_view_module": "@jupyter-widgets/base",
            "_model_module_version": "1.5.0",
            "_view_count": null,
            "_view_module_version": "1.2.0",
            "bar_color": null,
            "_model_module": "@jupyter-widgets/controls"
          }
        },
        "7f331e54d097412896d6b6e3e7e9062f": {
          "model_module": "@jupyter-widgets/base",
          "model_name": "LayoutModel",
          "model_module_version": "1.2.0",
          "state": {
            "_view_name": "LayoutView",
            "grid_template_rows": null,
            "right": null,
            "justify_content": null,
            "_view_module": "@jupyter-widgets/base",
            "overflow": null,
            "_model_module_version": "1.2.0",
            "_view_count": null,
            "flex_flow": null,
            "width": null,
            "min_width": null,
            "border": null,
            "align_items": null,
            "bottom": null,
            "_model_module": "@jupyter-widgets/base",
            "top": null,
            "grid_column": null,
            "overflow_y": null,
            "overflow_x": null,
            "grid_auto_flow": null,
            "grid_area": null,
            "grid_template_columns": null,
            "flex": null,
            "_model_name": "LayoutModel",
            "justify_items": null,
            "grid_row": null,
            "max_height": null,
            "align_content": null,
            "visibility": null,
            "align_self": null,
            "height": null,
            "min_height": null,
            "padding": null,
            "grid_auto_rows": null,
            "grid_gap": null,
            "max_width": null,
            "order": null,
            "_view_module_version": "1.2.0",
            "grid_template_areas": null,
            "object_position": null,
            "object_fit": null,
            "grid_auto_columns": null,
            "margin": null,
            "display": null,
            "left": null
          }
        },
        "3e4d5188c50b44cd8eac755ccc5846c9": {
          "model_module": "@jupyter-widgets/controls",
          "model_name": "DescriptionStyleModel",
          "model_module_version": "1.5.0",
          "state": {
            "_view_name": "StyleView",
            "_model_name": "DescriptionStyleModel",
            "description_width": "",
            "_view_module": "@jupyter-widgets/base",
            "_model_module_version": "1.5.0",
            "_view_count": null,
            "_view_module_version": "1.2.0",
            "_model_module": "@jupyter-widgets/controls"
          }
        },
        "f937b7201bab422288b528132f6de64e": {
          "model_module": "@jupyter-widgets/base",
          "model_name": "LayoutModel",
          "model_module_version": "1.2.0",
          "state": {
            "_view_name": "LayoutView",
            "grid_template_rows": null,
            "right": null,
            "justify_content": null,
            "_view_module": "@jupyter-widgets/base",
            "overflow": null,
            "_model_module_version": "1.2.0",
            "_view_count": null,
            "flex_flow": null,
            "width": null,
            "min_width": null,
            "border": null,
            "align_items": null,
            "bottom": null,
            "_model_module": "@jupyter-widgets/base",
            "top": null,
            "grid_column": null,
            "overflow_y": null,
            "overflow_x": null,
            "grid_auto_flow": null,
            "grid_area": null,
            "grid_template_columns": null,
            "flex": null,
            "_model_name": "LayoutModel",
            "justify_items": null,
            "grid_row": null,
            "max_height": null,
            "align_content": null,
            "visibility": null,
            "align_self": null,
            "height": null,
            "min_height": null,
            "padding": null,
            "grid_auto_rows": null,
            "grid_gap": null,
            "max_width": null,
            "order": null,
            "_view_module_version": "1.2.0",
            "grid_template_areas": null,
            "object_position": null,
            "object_fit": null,
            "grid_auto_columns": null,
            "margin": null,
            "display": null,
            "left": null
          }
        },
        "dc6161d858e2482093ce59466241b51d": {
          "model_module": "@jupyter-widgets/controls",
          "model_name": "HBoxModel",
          "model_module_version": "1.5.0",
          "state": {
            "_view_name": "HBoxView",
            "_dom_classes": [],
            "_model_name": "HBoxModel",
            "_view_module": "@jupyter-widgets/controls",
            "_model_module_version": "1.5.0",
            "_view_count": null,
            "_view_module_version": "1.5.0",
            "box_style": "",
            "layout": "IPY_MODEL_641e9dc1241b4214a8d6f11d4b769e3f",
            "_model_module": "@jupyter-widgets/controls",
            "children": [
              "IPY_MODEL_343bdae310794deeb4e83d96d088eb68",
              "IPY_MODEL_227a83097b524388a05e5cf605efc56f",
              "IPY_MODEL_04c685b717504dac8757018aa3ddf28c"
            ]
          }
        },
        "641e9dc1241b4214a8d6f11d4b769e3f": {
          "model_module": "@jupyter-widgets/base",
          "model_name": "LayoutModel",
          "model_module_version": "1.2.0",
          "state": {
            "_view_name": "LayoutView",
            "grid_template_rows": null,
            "right": null,
            "justify_content": null,
            "_view_module": "@jupyter-widgets/base",
            "overflow": null,
            "_model_module_version": "1.2.0",
            "_view_count": null,
            "flex_flow": null,
            "width": null,
            "min_width": null,
            "border": null,
            "align_items": null,
            "bottom": null,
            "_model_module": "@jupyter-widgets/base",
            "top": null,
            "grid_column": null,
            "overflow_y": null,
            "overflow_x": null,
            "grid_auto_flow": null,
            "grid_area": null,
            "grid_template_columns": null,
            "flex": null,
            "_model_name": "LayoutModel",
            "justify_items": null,
            "grid_row": null,
            "max_height": null,
            "align_content": null,
            "visibility": null,
            "align_self": null,
            "height": null,
            "min_height": null,
            "padding": null,
            "grid_auto_rows": null,
            "grid_gap": null,
            "max_width": null,
            "order": null,
            "_view_module_version": "1.2.0",
            "grid_template_areas": null,
            "object_position": null,
            "object_fit": null,
            "grid_auto_columns": null,
            "margin": null,
            "display": null,
            "left": null
          }
        },
        "343bdae310794deeb4e83d96d088eb68": {
          "model_module": "@jupyter-widgets/controls",
          "model_name": "HTMLModel",
          "model_module_version": "1.5.0",
          "state": {
            "_view_name": "HTMLView",
            "style": "IPY_MODEL_9154d3ebc6864dfc8d8b80737b22be84",
            "_dom_classes": [],
            "description": "",
            "_model_name": "HTMLModel",
            "placeholder": "​",
            "_view_module": "@jupyter-widgets/controls",
            "_model_module_version": "1.5.0",
            "value": "Downloading: 100%",
            "_view_count": null,
            "_view_module_version": "1.5.0",
            "description_tooltip": null,
            "_model_module": "@jupyter-widgets/controls",
            "layout": "IPY_MODEL_911c57f60f234f50a82c936b52f45455"
          }
        },
        "227a83097b524388a05e5cf605efc56f": {
          "model_module": "@jupyter-widgets/controls",
          "model_name": "FloatProgressModel",
          "model_module_version": "1.5.0",
          "state": {
            "_view_name": "ProgressView",
            "style": "IPY_MODEL_bb1a946e24194a5a9b6e314ee40e3e9a",
            "_dom_classes": [],
            "description": "",
            "_model_name": "FloatProgressModel",
            "bar_style": "success",
            "max": 437992753,
            "_view_module": "@jupyter-widgets/controls",
            "_model_module_version": "1.5.0",
            "value": 437992753,
            "_view_count": null,
            "_view_module_version": "1.5.0",
            "orientation": "horizontal",
            "min": 0,
            "description_tooltip": null,
            "_model_module": "@jupyter-widgets/controls",
            "layout": "IPY_MODEL_feb48b853dcb47db826da1c32304e498"
          }
        },
        "04c685b717504dac8757018aa3ddf28c": {
          "model_module": "@jupyter-widgets/controls",
          "model_name": "HTMLModel",
          "model_module_version": "1.5.0",
          "state": {
            "_view_name": "HTMLView",
            "style": "IPY_MODEL_5113158ed9d74f7a834b4cffaba1f772",
            "_dom_classes": [],
            "description": "",
            "_model_name": "HTMLModel",
            "placeholder": "​",
            "_view_module": "@jupyter-widgets/controls",
            "_model_module_version": "1.5.0",
            "value": " 418M/418M [00:13&lt;00:00, 21.6MB/s]",
            "_view_count": null,
            "_view_module_version": "1.5.0",
            "description_tooltip": null,
            "_model_module": "@jupyter-widgets/controls",
            "layout": "IPY_MODEL_aba69a5796b7479896528519603fe2d5"
          }
        },
        "9154d3ebc6864dfc8d8b80737b22be84": {
          "model_module": "@jupyter-widgets/controls",
          "model_name": "DescriptionStyleModel",
          "model_module_version": "1.5.0",
          "state": {
            "_view_name": "StyleView",
            "_model_name": "DescriptionStyleModel",
            "description_width": "",
            "_view_module": "@jupyter-widgets/base",
            "_model_module_version": "1.5.0",
            "_view_count": null,
            "_view_module_version": "1.2.0",
            "_model_module": "@jupyter-widgets/controls"
          }
        },
        "911c57f60f234f50a82c936b52f45455": {
          "model_module": "@jupyter-widgets/base",
          "model_name": "LayoutModel",
          "model_module_version": "1.2.0",
          "state": {
            "_view_name": "LayoutView",
            "grid_template_rows": null,
            "right": null,
            "justify_content": null,
            "_view_module": "@jupyter-widgets/base",
            "overflow": null,
            "_model_module_version": "1.2.0",
            "_view_count": null,
            "flex_flow": null,
            "width": null,
            "min_width": null,
            "border": null,
            "align_items": null,
            "bottom": null,
            "_model_module": "@jupyter-widgets/base",
            "top": null,
            "grid_column": null,
            "overflow_y": null,
            "overflow_x": null,
            "grid_auto_flow": null,
            "grid_area": null,
            "grid_template_columns": null,
            "flex": null,
            "_model_name": "LayoutModel",
            "justify_items": null,
            "grid_row": null,
            "max_height": null,
            "align_content": null,
            "visibility": null,
            "align_self": null,
            "height": null,
            "min_height": null,
            "padding": null,
            "grid_auto_rows": null,
            "grid_gap": null,
            "max_width": null,
            "order": null,
            "_view_module_version": "1.2.0",
            "grid_template_areas": null,
            "object_position": null,
            "object_fit": null,
            "grid_auto_columns": null,
            "margin": null,
            "display": null,
            "left": null
          }
        },
        "bb1a946e24194a5a9b6e314ee40e3e9a": {
          "model_module": "@jupyter-widgets/controls",
          "model_name": "ProgressStyleModel",
          "model_module_version": "1.5.0",
          "state": {
            "_view_name": "StyleView",
            "_model_name": "ProgressStyleModel",
            "description_width": "",
            "_view_module": "@jupyter-widgets/base",
            "_model_module_version": "1.5.0",
            "_view_count": null,
            "_view_module_version": "1.2.0",
            "bar_color": null,
            "_model_module": "@jupyter-widgets/controls"
          }
        },
        "feb48b853dcb47db826da1c32304e498": {
          "model_module": "@jupyter-widgets/base",
          "model_name": "LayoutModel",
          "model_module_version": "1.2.0",
          "state": {
            "_view_name": "LayoutView",
            "grid_template_rows": null,
            "right": null,
            "justify_content": null,
            "_view_module": "@jupyter-widgets/base",
            "overflow": null,
            "_model_module_version": "1.2.0",
            "_view_count": null,
            "flex_flow": null,
            "width": null,
            "min_width": null,
            "border": null,
            "align_items": null,
            "bottom": null,
            "_model_module": "@jupyter-widgets/base",
            "top": null,
            "grid_column": null,
            "overflow_y": null,
            "overflow_x": null,
            "grid_auto_flow": null,
            "grid_area": null,
            "grid_template_columns": null,
            "flex": null,
            "_model_name": "LayoutModel",
            "justify_items": null,
            "grid_row": null,
            "max_height": null,
            "align_content": null,
            "visibility": null,
            "align_self": null,
            "height": null,
            "min_height": null,
            "padding": null,
            "grid_auto_rows": null,
            "grid_gap": null,
            "max_width": null,
            "order": null,
            "_view_module_version": "1.2.0",
            "grid_template_areas": null,
            "object_position": null,
            "object_fit": null,
            "grid_auto_columns": null,
            "margin": null,
            "display": null,
            "left": null
          }
        },
        "5113158ed9d74f7a834b4cffaba1f772": {
          "model_module": "@jupyter-widgets/controls",
          "model_name": "DescriptionStyleModel",
          "model_module_version": "1.5.0",
          "state": {
            "_view_name": "StyleView",
            "_model_name": "DescriptionStyleModel",
            "description_width": "",
            "_view_module": "@jupyter-widgets/base",
            "_model_module_version": "1.5.0",
            "_view_count": null,
            "_view_module_version": "1.2.0",
            "_model_module": "@jupyter-widgets/controls"
          }
        },
        "aba69a5796b7479896528519603fe2d5": {
          "model_module": "@jupyter-widgets/base",
          "model_name": "LayoutModel",
          "model_module_version": "1.2.0",
          "state": {
            "_view_name": "LayoutView",
            "grid_template_rows": null,
            "right": null,
            "justify_content": null,
            "_view_module": "@jupyter-widgets/base",
            "overflow": null,
            "_model_module_version": "1.2.0",
            "_view_count": null,
            "flex_flow": null,
            "width": null,
            "min_width": null,
            "border": null,
            "align_items": null,
            "bottom": null,
            "_model_module": "@jupyter-widgets/base",
            "top": null,
            "grid_column": null,
            "overflow_y": null,
            "overflow_x": null,
            "grid_auto_flow": null,
            "grid_area": null,
            "grid_template_columns": null,
            "flex": null,
            "_model_name": "LayoutModel",
            "justify_items": null,
            "grid_row": null,
            "max_height": null,
            "align_content": null,
            "visibility": null,
            "align_self": null,
            "height": null,
            "min_height": null,
            "padding": null,
            "grid_auto_rows": null,
            "grid_gap": null,
            "max_width": null,
            "order": null,
            "_view_module_version": "1.2.0",
            "grid_template_areas": null,
            "object_position": null,
            "object_fit": null,
            "grid_auto_columns": null,
            "margin": null,
            "display": null,
            "left": null
          }
        }
      }
    }
  },
  "cells": [
    {
      "cell_type": "markdown",
      "source": [
        "## Sentiment Analysis\n",
        "Sentiment analysis is one of the most widely used applications of NLP. It consists of a language classification task where our goal is to classify positive, negative, and neutral sentiments. Given the following three statements we would aim to identify whether each is good, bad, or neutral:\n",
        "\n",
        "*GBP rallies after stronger than ever economic performance.*\n",
        "\n",
        "*GBP slips on fears of a divided economy.*\n",
        "\n",
        "*GBP is one of several European currencies.*\n",
        "\n",
        "When reading each of these examples, we percieve an overall feeling (the sentiment) behind each statement. The first sounds like great news, and so we see this as a positive statement. For the second statement, things seem more bleak, and so we perceive a more negative feeling. The final statement has neither positive nor negative connatations - it is simply a factual statement.\n",
        "\n",
        "From this, we can say that statement (1) has a positive sentiment, (2) is negative, and (3) is neutral.\n",
        "\n",
        "The typical flow of information through a sentiment classification model consists of **four** steps:\n",
        "\n",
        "- Raw text data is tokenized (converted into numerical IDs that map that word to a vector representation of the same word)\n",
        "\n",
        "- Token IDs are fed into the sentiment model\n",
        "\n",
        "- A set of values are output, each value represents a class, and the value represents probability of that being the correct sentiment class, from zero (definitely not) to one (definitely yes).\n",
        "\n",
        "- The argmax of this output array is taken to give us our winning sentiment classification.\n",
        "\n",
        "We do not always have the three outputs classes [positive, negative, and neutal], often we will find models that predict just [positive, negative], or models that are more granular [very positive, somewhat positive, neutral, somewhat negative, very negative]. We can change the number of outputs classes (step 3) to fit to the correct number of classes."
      ],
      "metadata": {
        "id": "suutFKErNB6g"
      }
    },
    {
      "cell_type": "markdown",
      "source": [
        "## Sentiment with Flair\n",
        "\n",
        "Flair offers models that we can use out-of-the-box. One of those is the English sentiment model, which we will learn how to use here.\n",
        "\n",
        "First, we need to make sure Flair has been installed, we do this in our CLI with:\n",
        "\n",
        "*pip install flair*\n",
        "\n",
        "Flair uses PyTorch/TensorFlow in under the hood, so it's essential that you also have one of the two libraries (or both) installed. There are a few steps in applying sentiment analysis, these are:\n",
        "\n",
        "1. Initializing the model.\n",
        "2. Tokenizing input text.\n",
        "3. Processing with the model.\n",
        "4. (Optional) Formatting the outputs.\n",
        "\n",
        "\n",
        "We then load the English sentiment model like so:"
      ],
      "metadata": {
        "id": "SylhvOy9Ngxy"
      }
    },
    {
      "cell_type": "code",
      "source": [
        "!pip install flair"
      ],
      "metadata": {
        "colab": {
          "base_uri": "https://localhost:8080/"
        },
        "id": "c07AiJ9qN2uP",
        "outputId": "b3a604fb-b77b-4a2f-879b-eddcafd6d2f6"
      },
      "execution_count": 1,
      "outputs": [
        {
          "output_type": "stream",
          "name": "stdout",
          "text": [
            "Collecting flair\n",
            "  Downloading flair-0.10-py3-none-any.whl (322 kB)\n",
            "\u001b[K     |████████████████████████████████| 322 kB 13.2 MB/s \n",
            "\u001b[?25hCollecting janome\n",
            "  Downloading Janome-0.4.1-py2.py3-none-any.whl (19.7 MB)\n",
            "\u001b[K     |████████████████████████████████| 19.7 MB 1.3 MB/s \n",
            "\u001b[?25hCollecting mpld3==0.3\n",
            "  Downloading mpld3-0.3.tar.gz (788 kB)\n",
            "\u001b[K     |████████████████████████████████| 788 kB 29.8 MB/s \n",
            "\u001b[?25hCollecting segtok>=1.5.7\n",
            "  Downloading segtok-1.5.11-py3-none-any.whl (24 kB)\n",
            "Requirement already satisfied: gensim>=3.4.0 in /usr/local/lib/python3.7/dist-packages (from flair) (3.6.0)\n",
            "Collecting deprecated>=1.2.4\n",
            "  Downloading Deprecated-1.2.13-py2.py3-none-any.whl (9.6 kB)\n",
            "Requirement already satisfied: tabulate in /usr/local/lib/python3.7/dist-packages (from flair) (0.8.9)\n",
            "Collecting transformers>=4.0.0\n",
            "  Downloading transformers-4.15.0-py3-none-any.whl (3.4 MB)\n",
            "\u001b[K     |████████████████████████████████| 3.4 MB 60.3 MB/s \n",
            "\u001b[?25hCollecting konoha<5.0.0,>=4.0.0\n",
            "  Downloading konoha-4.6.5-py3-none-any.whl (20 kB)\n",
            "Collecting sqlitedict>=1.6.0\n",
            "  Downloading sqlitedict-1.7.0.tar.gz (28 kB)\n",
            "Collecting conllu>=4.0\n",
            "  Downloading conllu-4.4.1-py2.py3-none-any.whl (15 kB)\n",
            "Requirement already satisfied: regex in /usr/local/lib/python3.7/dist-packages (from flair) (2019.12.20)\n",
            "Collecting sentencepiece==0.1.95\n",
            "  Downloading sentencepiece-0.1.95-cp37-cp37m-manylinux2014_x86_64.whl (1.2 MB)\n",
            "\u001b[K     |████████████████████████████████| 1.2 MB 56.6 MB/s \n",
            "\u001b[?25hCollecting huggingface-hub\n",
            "  Downloading huggingface_hub-0.2.1-py3-none-any.whl (61 kB)\n",
            "\u001b[K     |████████████████████████████████| 61 kB 380 kB/s \n",
            "\u001b[?25hCollecting ftfy\n",
            "  Downloading ftfy-6.0.3.tar.gz (64 kB)\n",
            "\u001b[K     |████████████████████████████████| 64 kB 2.4 MB/s \n",
            "\u001b[?25hRequirement already satisfied: torch!=1.8,>=1.5.0 in /usr/local/lib/python3.7/dist-packages (from flair) (1.10.0+cu111)\n",
            "Requirement already satisfied: python-dateutil>=2.6.1 in /usr/local/lib/python3.7/dist-packages (from flair) (2.8.2)\n",
            "Collecting langdetect\n",
            "  Downloading langdetect-1.0.9.tar.gz (981 kB)\n",
            "\u001b[K     |████████████████████████████████| 981 kB 83.7 MB/s \n",
            "\u001b[?25hCollecting wikipedia-api\n",
            "  Downloading Wikipedia-API-0.5.4.tar.gz (18 kB)\n",
            "Collecting gdown==3.12.2\n",
            "  Downloading gdown-3.12.2.tar.gz (8.2 kB)\n",
            "  Installing build dependencies ... \u001b[?25l\u001b[?25hdone\n",
            "  Getting requirements to build wheel ... \u001b[?25l\u001b[?25hdone\n",
            "    Preparing wheel metadata ... \u001b[?25l\u001b[?25hdone\n",
            "Requirement already satisfied: matplotlib>=2.2.3 in /usr/local/lib/python3.7/dist-packages (from flair) (3.2.2)\n",
            "Requirement already satisfied: scikit-learn>=0.21.3 in /usr/local/lib/python3.7/dist-packages (from flair) (1.0.1)\n",
            "Requirement already satisfied: tqdm>=4.26.0 in /usr/local/lib/python3.7/dist-packages (from flair) (4.62.3)\n",
            "Collecting bpemb>=0.3.2\n",
            "  Downloading bpemb-0.3.3-py3-none-any.whl (19 kB)\n",
            "Collecting more-itertools~=8.8.0\n",
            "  Downloading more_itertools-8.8.0-py3-none-any.whl (48 kB)\n",
            "\u001b[K     |████████████████████████████████| 48 kB 4.6 MB/s \n",
            "\u001b[?25hRequirement already satisfied: lxml in /usr/local/lib/python3.7/dist-packages (from flair) (4.2.6)\n",
            "Requirement already satisfied: filelock in /usr/local/lib/python3.7/dist-packages (from gdown==3.12.2->flair) (3.4.0)\n",
            "Requirement already satisfied: six in /usr/local/lib/python3.7/dist-packages (from gdown==3.12.2->flair) (1.15.0)\n",
            "Requirement already satisfied: requests[socks] in /usr/local/lib/python3.7/dist-packages (from gdown==3.12.2->flair) (2.23.0)\n",
            "Requirement already satisfied: numpy in /usr/local/lib/python3.7/dist-packages (from bpemb>=0.3.2->flair) (1.19.5)\n",
            "Requirement already satisfied: wrapt<2,>=1.10 in /usr/local/lib/python3.7/dist-packages (from deprecated>=1.2.4->flair) (1.13.3)\n",
            "Requirement already satisfied: smart-open>=1.2.1 in /usr/local/lib/python3.7/dist-packages (from gensim>=3.4.0->flair) (5.2.1)\n",
            "Requirement already satisfied: scipy>=0.18.1 in /usr/local/lib/python3.7/dist-packages (from gensim>=3.4.0->flair) (1.4.1)\n",
            "Collecting requests\n",
            "  Downloading requests-2.26.0-py2.py3-none-any.whl (62 kB)\n",
            "\u001b[K     |████████████████████████████████| 62 kB 825 kB/s \n",
            "\u001b[?25hCollecting overrides<4.0.0,>=3.0.0\n",
            "  Downloading overrides-3.1.0.tar.gz (11 kB)\n",
            "Collecting importlib-metadata<4.0.0,>=3.7.0\n",
            "  Downloading importlib_metadata-3.10.1-py3-none-any.whl (14 kB)\n",
            "Requirement already satisfied: typing-extensions>=3.6.4 in /usr/local/lib/python3.7/dist-packages (from importlib-metadata<4.0.0,>=3.7.0->konoha<5.0.0,>=4.0.0->flair) (3.10.0.2)\n",
            "Requirement already satisfied: zipp>=0.5 in /usr/local/lib/python3.7/dist-packages (from importlib-metadata<4.0.0,>=3.7.0->konoha<5.0.0,>=4.0.0->flair) (3.6.0)\n",
            "Requirement already satisfied: pyparsing!=2.0.4,!=2.1.2,!=2.1.6,>=2.0.1 in /usr/local/lib/python3.7/dist-packages (from matplotlib>=2.2.3->flair) (3.0.6)\n",
            "Requirement already satisfied: kiwisolver>=1.0.1 in /usr/local/lib/python3.7/dist-packages (from matplotlib>=2.2.3->flair) (1.3.2)\n",
            "Requirement already satisfied: cycler>=0.10 in /usr/local/lib/python3.7/dist-packages (from matplotlib>=2.2.3->flair) (0.11.0)\n",
            "Requirement already satisfied: idna<4,>=2.5 in /usr/local/lib/python3.7/dist-packages (from requests->bpemb>=0.3.2->flair) (2.10)\n",
            "Requirement already satisfied: urllib3<1.27,>=1.21.1 in /usr/local/lib/python3.7/dist-packages (from requests->bpemb>=0.3.2->flair) (1.24.3)\n",
            "Requirement already satisfied: charset-normalizer~=2.0.0 in /usr/local/lib/python3.7/dist-packages (from requests->bpemb>=0.3.2->flair) (2.0.8)\n",
            "Requirement already satisfied: certifi>=2017.4.17 in /usr/local/lib/python3.7/dist-packages (from requests->bpemb>=0.3.2->flair) (2021.10.8)\n",
            "Requirement already satisfied: joblib>=0.11 in /usr/local/lib/python3.7/dist-packages (from scikit-learn>=0.21.3->flair) (1.1.0)\n",
            "Requirement already satisfied: threadpoolctl>=2.0.0 in /usr/local/lib/python3.7/dist-packages (from scikit-learn>=0.21.3->flair) (3.0.0)\n",
            "Collecting sacremoses\n",
            "  Downloading sacremoses-0.0.46-py3-none-any.whl (895 kB)\n",
            "\u001b[K     |████████████████████████████████| 895 kB 65.1 MB/s \n",
            "\u001b[?25hRequirement already satisfied: packaging>=20.0 in /usr/local/lib/python3.7/dist-packages (from transformers>=4.0.0->flair) (21.3)\n",
            "Collecting pyyaml>=5.1\n",
            "  Downloading PyYAML-6.0-cp37-cp37m-manylinux_2_5_x86_64.manylinux1_x86_64.manylinux_2_12_x86_64.manylinux2010_x86_64.whl (596 kB)\n",
            "\u001b[K     |████████████████████████████████| 596 kB 60.7 MB/s \n",
            "\u001b[?25hCollecting tokenizers<0.11,>=0.10.1\n",
            "  Downloading tokenizers-0.10.3-cp37-cp37m-manylinux_2_5_x86_64.manylinux1_x86_64.manylinux_2_12_x86_64.manylinux2010_x86_64.whl (3.3 MB)\n",
            "\u001b[K     |████████████████████████████████| 3.3 MB 53.3 MB/s \n",
            "\u001b[?25hRequirement already satisfied: wcwidth in /usr/local/lib/python3.7/dist-packages (from ftfy->flair) (0.2.5)\n",
            "Requirement already satisfied: PySocks!=1.5.7,>=1.5.6 in /usr/local/lib/python3.7/dist-packages (from requests->bpemb>=0.3.2->flair) (1.7.1)\n",
            "Requirement already satisfied: click in /usr/local/lib/python3.7/dist-packages (from sacremoses->transformers>=4.0.0->flair) (7.1.2)\n",
            "Building wheels for collected packages: gdown, mpld3, overrides, sqlitedict, ftfy, langdetect, wikipedia-api\n",
            "  Building wheel for gdown (PEP 517) ... \u001b[?25l\u001b[?25hdone\n",
            "  Created wheel for gdown: filename=gdown-3.12.2-py3-none-any.whl size=9704 sha256=dacd967711ce4bd939c99a5ffaebb92179de59497ee44c6d22d824169feae817\n",
            "  Stored in directory: /root/.cache/pip/wheels/ba/e0/7e/726e872a53f7358b4b96a9975b04e98113b005cd8609a63abc\n",
            "  Building wheel for mpld3 (setup.py) ... \u001b[?25l\u001b[?25hdone\n",
            "  Created wheel for mpld3: filename=mpld3-0.3-py3-none-any.whl size=116702 sha256=89a7230996046d39bda77b34eec46c42c276270cf07d3bf8e7841ab4551ff264\n",
            "  Stored in directory: /root/.cache/pip/wheels/26/70/6a/1c79e59951a41b4045497da187b2724f5659ca64033cf4548e\n",
            "  Building wheel for overrides (setup.py) ... \u001b[?25l\u001b[?25hdone\n",
            "  Created wheel for overrides: filename=overrides-3.1.0-py3-none-any.whl size=10186 sha256=4aebb65e5dfd8472f2e8b19598b1f2bd2eb8dcb238b836eb5dd20866179cb173\n",
            "  Stored in directory: /root/.cache/pip/wheels/3a/0d/38/01a9bc6e20dcfaf0a6a7b552d03137558ba1c38aea47644682\n",
            "  Building wheel for sqlitedict (setup.py) ... \u001b[?25l\u001b[?25hdone\n",
            "  Created wheel for sqlitedict: filename=sqlitedict-1.7.0-py3-none-any.whl size=14392 sha256=3ff7e245f59036aef162e98ee2f1ab2698f6cd55f40ae7ca156e590a7d008ae9\n",
            "  Stored in directory: /root/.cache/pip/wheels/af/94/06/18c0e83e9e227da8f3582810b51f319bbfd181e508676a56c8\n",
            "  Building wheel for ftfy (setup.py) ... \u001b[?25l\u001b[?25hdone\n",
            "  Created wheel for ftfy: filename=ftfy-6.0.3-py3-none-any.whl size=41933 sha256=0e05698ad59fca9094f41b7e0b759658ad15d5c885ec002963900b207a537a2e\n",
            "  Stored in directory: /root/.cache/pip/wheels/19/f5/38/273eb3b5e76dfd850619312f693716ac4518b498f5ffb6f56d\n",
            "  Building wheel for langdetect (setup.py) ... \u001b[?25l\u001b[?25hdone\n",
            "  Created wheel for langdetect: filename=langdetect-1.0.9-py3-none-any.whl size=993242 sha256=444ca76572445462e6e22eee038dc579f392ff8150ae5663bee89a8d2492aa43\n",
            "  Stored in directory: /root/.cache/pip/wheels/c5/96/8a/f90c59ed25d75e50a8c10a1b1c2d4c402e4dacfa87f3aff36a\n",
            "  Building wheel for wikipedia-api (setup.py) ... \u001b[?25l\u001b[?25hdone\n",
            "  Created wheel for wikipedia-api: filename=Wikipedia_API-0.5.4-py3-none-any.whl size=13475 sha256=2494dd881052b22312cdf10f9fc3cc370f3023b395808b62f666965880affa9d\n",
            "  Stored in directory: /root/.cache/pip/wheels/d3/24/56/58ba93cf78be162451144e7a9889603f437976ef1ae7013d04\n",
            "Successfully built gdown mpld3 overrides sqlitedict ftfy langdetect wikipedia-api\n",
            "Installing collected packages: requests, pyyaml, importlib-metadata, tokenizers, sentencepiece, sacremoses, overrides, huggingface-hub, wikipedia-api, transformers, sqlitedict, segtok, mpld3, more-itertools, langdetect, konoha, janome, gdown, ftfy, deprecated, conllu, bpemb, flair\n",
            "  Attempting uninstall: requests\n",
            "    Found existing installation: requests 2.23.0\n",
            "    Uninstalling requests-2.23.0:\n",
            "      Successfully uninstalled requests-2.23.0\n",
            "  Attempting uninstall: pyyaml\n",
            "    Found existing installation: PyYAML 3.13\n",
            "    Uninstalling PyYAML-3.13:\n",
            "      Successfully uninstalled PyYAML-3.13\n",
            "  Attempting uninstall: importlib-metadata\n",
            "    Found existing installation: importlib-metadata 4.8.2\n",
            "    Uninstalling importlib-metadata-4.8.2:\n",
            "      Successfully uninstalled importlib-metadata-4.8.2\n",
            "  Attempting uninstall: more-itertools\n",
            "    Found existing installation: more-itertools 8.12.0\n",
            "    Uninstalling more-itertools-8.12.0:\n",
            "      Successfully uninstalled more-itertools-8.12.0\n",
            "  Attempting uninstall: gdown\n",
            "    Found existing installation: gdown 3.6.4\n",
            "    Uninstalling gdown-3.6.4:\n",
            "      Successfully uninstalled gdown-3.6.4\n",
            "\u001b[31mERROR: pip's dependency resolver does not currently take into account all the packages that are installed. This behaviour is the source of the following dependency conflicts.\n",
            "markdown 3.3.6 requires importlib-metadata>=4.4; python_version < \"3.10\", but you have importlib-metadata 3.10.1 which is incompatible.\n",
            "google-colab 1.0.0 requires requests~=2.23.0, but you have requests 2.26.0 which is incompatible.\n",
            "datascience 0.10.6 requires folium==0.2.1, but you have folium 0.8.3 which is incompatible.\u001b[0m\n",
            "Successfully installed bpemb-0.3.3 conllu-4.4.1 deprecated-1.2.13 flair-0.10 ftfy-6.0.3 gdown-3.12.2 huggingface-hub-0.2.1 importlib-metadata-3.10.1 janome-0.4.1 konoha-4.6.5 langdetect-1.0.9 more-itertools-8.8.0 mpld3-0.3 overrides-3.1.0 pyyaml-6.0 requests-2.26.0 sacremoses-0.0.46 segtok-1.5.11 sentencepiece-0.1.95 sqlitedict-1.7.0 tokenizers-0.10.3 transformers-4.15.0 wikipedia-api-0.5.4\n"
          ]
        }
      ]
    },
    {
      "cell_type": "code",
      "execution_count": 2,
      "metadata": {
        "colab": {
          "base_uri": "https://localhost:8080/",
          "height": 252,
          "referenced_widgets": [
            "9c84b0128c7b426f9de07af71a0391a1",
            "77bad42649a34a44a362878e17d2d009",
            "4d7b1d202d6a4b64bcbd5fc23e644aed",
            "2fb5b8ca387c4dd981883cdcb403cf7c",
            "7a81413864a349ee90c66253297c6828",
            "84d47e7581964952a292df6a4fe63283",
            "9cfc881aa4d242c9847102d6b14d4bb3",
            "31de2752fd0243bda039be3d5b6dc850",
            "5f3155500c744a8a8782b3a655e710f2",
            "14e0decf555f4b4bbe401614b9e7d635",
            "e178778a9f3245ce88fe72b04ae7a6cd",
            "06551ca9726445d8ac37a501c5c63a36",
            "806c8b602d8744b08faf24e1613eb777",
            "29d8182f286f44c3b9163241a8f95886",
            "41534cc8a2cb40be80d63a0bd94245ea",
            "0da48c8645524e8589acac3e8e39dd3a",
            "9657ee6e8d664946ba386090d6a05721",
            "f8f0d17592fd47fb84d507e319551cdf",
            "44979343521f4127a415f8a925e74828",
            "21924fd81ba246b6a560736f7abe4e87",
            "2bfeeb11719a4f719ac35bea4504aa25",
            "cce4707a18224ea59f16389d70cfe19e",
            "8b4a8604db6b4c36b1b3e66b1eddf616",
            "55ad1aa899f14646af15ebddf34ebcc3",
            "35c4f247d1704b0986871790c2d420eb",
            "ac3b39fecd9d4470bf76e3276a56a674",
            "7f805325be97400eb6528fb8dbacfbd1",
            "e8e306e3a1aa41b8abd2bc4cd7e68d31",
            "5748daf770244650b51f85bc5043ed9e",
            "bb19543cbbc34444a897b099c85d3198",
            "c9d5723f552f48499eb3cac00a457a35",
            "c75679fbec52482ba462605d7eb48f4c",
            "231affb67227422e8f3f0be531b9d5f4",
            "9c10a22397b54f6881978d7d010fc0b4",
            "1857a051b7cc4da282bf3909057cde90",
            "eee619d9ef5b49a49b0b9f0ab4a2834b",
            "cff36c3d9cbd442984dce8e230b99697",
            "2633ba91114748c49b41ab301e064af9",
            "f1357b4ba41c47b9953f9def29304383",
            "9076cc0ef48542d9909df0f941fff751",
            "dc368688ef3a4f6388d7ee505bbc585a",
            "dc4f7382f671400886ae9eb8da35b4f5",
            "28efa25c24f04f0b92cb20aab5850a4f",
            "c81bb51f1d4341c3b8e08d656b0941a4"
          ]
        },
        "id": "xAZ45gscG8fe",
        "outputId": "57ed3538-ac34-4d4f-9098-b0b7228c5fee"
      },
      "outputs": [
        {
          "output_type": "stream",
          "name": "stdout",
          "text": [
            "2021-12-24 16:14:31,587 https://nlp.informatik.hu-berlin.de/resources/models/sentiment-curated-distilbert/sentiment-en-mix-distillbert_4.pt not found in cache, downloading to /tmp/tmpat3a0185\n"
          ]
        },
        {
          "output_type": "stream",
          "name": "stderr",
          "text": [
            "100%|██████████| 265512723/265512723 [00:06<00:00, 38952997.58B/s]"
          ]
        },
        {
          "output_type": "stream",
          "name": "stdout",
          "text": [
            "2021-12-24 16:14:38,494 copying /tmp/tmpat3a0185 to cache at /root/.flair/models/sentiment-en-mix-distillbert_4.pt\n"
          ]
        },
        {
          "output_type": "stream",
          "name": "stderr",
          "text": [
            "\n"
          ]
        },
        {
          "output_type": "stream",
          "name": "stdout",
          "text": [
            "2021-12-24 16:14:39,074 removing temp file /tmp/tmpat3a0185\n",
            "2021-12-24 16:14:39,107 loading file /root/.flair/models/sentiment-en-mix-distillbert_4.pt\n"
          ]
        },
        {
          "output_type": "display_data",
          "data": {
            "application/vnd.jupyter.widget-view+json": {
              "model_id": "9c84b0128c7b426f9de07af71a0391a1",
              "version_minor": 0,
              "version_major": 2
            },
            "text/plain": [
              "Downloading:   0%|          | 0.00/28.0 [00:00<?, ?B/s]"
            ]
          },
          "metadata": {}
        },
        {
          "output_type": "display_data",
          "data": {
            "application/vnd.jupyter.widget-view+json": {
              "model_id": "06551ca9726445d8ac37a501c5c63a36",
              "version_minor": 0,
              "version_major": 2
            },
            "text/plain": [
              "Downloading:   0%|          | 0.00/226k [00:00<?, ?B/s]"
            ]
          },
          "metadata": {}
        },
        {
          "output_type": "display_data",
          "data": {
            "application/vnd.jupyter.widget-view+json": {
              "model_id": "8b4a8604db6b4c36b1b3e66b1eddf616",
              "version_minor": 0,
              "version_major": 2
            },
            "text/plain": [
              "Downloading:   0%|          | 0.00/455k [00:00<?, ?B/s]"
            ]
          },
          "metadata": {}
        },
        {
          "output_type": "display_data",
          "data": {
            "application/vnd.jupyter.widget-view+json": {
              "model_id": "9c10a22397b54f6881978d7d010fc0b4",
              "version_minor": 0,
              "version_major": 2
            },
            "text/plain": [
              "Downloading:   0%|          | 0.00/483 [00:00<?, ?B/s]"
            ]
          },
          "metadata": {}
        }
      ],
      "source": [
        "import flair\n",
        "model = flair.models.TextClassifier.load('en-sentiment')"
      ]
    },
    {
      "cell_type": "markdown",
      "source": [
        "The first time this load method is run for the 'en-sentiment' model the model will be downloaded. After this, the model is initialized. The en-sentiment model is a distilBERT model fitted with a classification head that outputs two classes - negative and positive.\n",
        "\n",
        "Our next step is to tokenize input text. For this we use the Flair Sentence object, which we initialize by passing our text into it:"
      ],
      "metadata": {
        "id": "k7nX3-fKOD2N"
      }
    },
    {
      "cell_type": "code",
      "source": [
        "text = \"I like you. I love you\"  # we are expecting a confidently positive sentiment here\n",
        "\n",
        "sentence = flair.data.Sentence(text)\n",
        "\n",
        "sentence"
      ],
      "metadata": {
        "colab": {
          "base_uri": "https://localhost:8080/"
        },
        "id": "A-DQ0s3ROCPA",
        "outputId": "d8ccc929-1fd6-48d3-d5d4-7a41339045b0"
      },
      "execution_count": 3,
      "outputs": [
        {
          "output_type": "execute_result",
          "data": {
            "text/plain": [
              "Sentence: \"I like you . I love you\"   [− Tokens: 7]"
            ]
          },
          "metadata": {},
          "execution_count": 3
        }
      ]
    },
    {
      "cell_type": "markdown",
      "source": [
        "Here we now have the Flair Sentence object, which contains our text, alongside a tokenized version of it (each word/punctuation character is an individual token):\n",
        "\n"
      ],
      "metadata": {
        "id": "CF9lIHkMOJkc"
      }
    },
    {
      "cell_type": "code",
      "source": [
        "sentence.to_tokenized_string()"
      ],
      "metadata": {
        "colab": {
          "base_uri": "https://localhost:8080/",
          "height": 35
        },
        "id": "Eppvxp9pOJN4",
        "outputId": "5cc495cc-1d32-4cc1-b0ae-a1c7f841e915"
      },
      "execution_count": 4,
      "outputs": [
        {
          "output_type": "execute_result",
          "data": {
            "application/vnd.google.colaboratory.intrinsic+json": {
              "type": "string"
            },
            "text/plain": [
              "'I like you . I love you'"
            ]
          },
          "metadata": {},
          "execution_count": 4
        }
      ]
    },
    {
      "cell_type": "code",
      "source": [
        "# The next step is to process our tokenized inputs through out distilBERT classifier:\n",
        "\n",
        "model.predict(sentence)"
      ],
      "metadata": {
        "id": "HESh5vIAOX-_"
      },
      "execution_count": 5,
      "outputs": []
    },
    {
      "cell_type": "code",
      "source": [
        "# The predict method doesn't output our prediction, instead the predictions are added to our sentence:\n",
        "\n",
        "sentence"
      ],
      "metadata": {
        "colab": {
          "base_uri": "https://localhost:8080/"
        },
        "id": "-PtUR5dVOdTO",
        "outputId": "7f4f11bf-aaf2-442f-bfb8-8416565bd617"
      },
      "execution_count": 6,
      "outputs": [
        {
          "output_type": "execute_result",
          "data": {
            "text/plain": [
              "Sentence: \"I like you . I love you\"   [− Tokens: 7  − Sentence-Labels: {'label': [POSITIVE (0.9933)]}]"
            ]
          },
          "metadata": {},
          "execution_count": 6
        }
      ]
    },
    {
      "cell_type": "markdown",
      "source": [
        "Here we can see that we are predicting a POSITIVE sentiment with a probability of 0.9933, which is very confident as expected. Let's repeat the process with something more negative."
      ],
      "metadata": {
        "id": "Fkiu4iXCOlWk"
      }
    },
    {
      "cell_type": "code",
      "source": [
        "text = \"I hate it when I'm not learning\"\n",
        "sentence = flair.data.Sentence(text)\n",
        "model.predict(sentence)\n",
        "sentence"
      ],
      "metadata": {
        "colab": {
          "base_uri": "https://localhost:8080/"
        },
        "id": "Va0EZAMpOhaO",
        "outputId": "e7683760-d4aa-4ee2-bf6b-d650fc35c110"
      },
      "execution_count": 7,
      "outputs": [
        {
          "output_type": "execute_result",
          "data": {
            "text/plain": [
              "Sentence: \"I hate it when I 'm not learning\"   [− Tokens: 8  − Sentence-Labels: {'label': [NEGATIVE (0.9991)]}]"
            ]
          },
          "metadata": {},
          "execution_count": 7
        }
      ]
    },
    {
      "cell_type": "markdown",
      "source": [
        "And we correctly predict a NEGATIVE sentiment. Finally, we will typically want to extract our predictions and format them into the format that we need for our own use-case (for example plotting sentiment over time). Let's take a look at how we do that.\n",
        "\n",
        "The Sentence object provides us with a method called get_labels, we can use this to extract our sentiment prediction."
      ],
      "metadata": {
        "id": "tHcJvYNwOsOR"
      }
    },
    {
      "cell_type": "code",
      "source": [
        "sentence.get_labels()"
      ],
      "metadata": {
        "colab": {
          "base_uri": "https://localhost:8080/"
        },
        "id": "ia7rkiI9OoWM",
        "outputId": "3a16fc61-4986-453a-88a7-707ab2a4b4cf"
      },
      "execution_count": 8,
      "outputs": [
        {
          "output_type": "execute_result",
          "data": {
            "text/plain": [
              "[NEGATIVE (0.9991)]"
            ]
          },
          "metadata": {},
          "execution_count": 8
        }
      ]
    },
    {
      "cell_type": "markdown",
      "source": [
        "From this method we actually get a list, which contains our label object. To access each item in the list we need to dig a little deeper. We first access the label object by accessing the 0th index of our list. Flair Label objects contain two attributes, score and value - which contain our prediction."
      ],
      "metadata": {
        "id": "4FrdzWcCOyMC"
      }
    },
    {
      "cell_type": "code",
      "source": [
        "sentence.get_labels()[0]"
      ],
      "metadata": {
        "colab": {
          "base_uri": "https://localhost:8080/"
        },
        "id": "rYvL3n_-OvA9",
        "outputId": "8fa2a5e9-8e98-4fcb-c53b-3cf2b894789d"
      },
      "execution_count": 9,
      "outputs": [
        {
          "output_type": "execute_result",
          "data": {
            "text/plain": [
              "NEGATIVE (0.9991)"
            ]
          },
          "metadata": {},
          "execution_count": 9
        }
      ]
    },
    {
      "cell_type": "code",
      "source": [
        "sentence.get_labels()[0].score"
      ],
      "metadata": {
        "colab": {
          "base_uri": "https://localhost:8080/"
        },
        "id": "ChtahbjeO17G",
        "outputId": "a39d41fb-0299-431b-f5cb-8967b027564e"
      },
      "execution_count": 10,
      "outputs": [
        {
          "output_type": "execute_result",
          "data": {
            "text/plain": [
              "0.9991464614868164"
            ]
          },
          "metadata": {},
          "execution_count": 10
        }
      ]
    },
    {
      "cell_type": "code",
      "source": [
        "sentence.get_labels()[0].value"
      ],
      "metadata": {
        "colab": {
          "base_uri": "https://localhost:8080/",
          "height": 35
        },
        "id": "BK6KTy9oO7Fy",
        "outputId": "1bf7e56d-39e9-4783-f12d-02a8d45fd2ed"
      },
      "execution_count": 11,
      "outputs": [
        {
          "output_type": "execute_result",
          "data": {
            "application/vnd.google.colaboratory.intrinsic+json": {
              "type": "string"
            },
            "text/plain": [
              "'NEGATIVE'"
            ]
          },
          "metadata": {},
          "execution_count": 11
        }
      ]
    },
    {
      "cell_type": "markdown",
      "source": [
        "## Sentiment with Transformers\n",
        "The HuggingFace Transformers library is presently the most advanced and accessible library for building and using transformer models. As such, it will be what we primarily use throughout these notebooks.\n",
        "\n",
        "To apply sentiment analysis using the transformers library, we first need to decide on a model to use - as we will be applying a pretrained model, rather than starting from scratch. The list of models available can be found at huggingface.co/models."
      ],
      "metadata": {
        "id": "5Ja5lRChPFmV"
      }
    },
    {
      "cell_type": "markdown",
      "source": [
        "From the model page we select the Text Classification filter on the left of the page to filter for models that we can apply for text classification tasks immediately. We will be performing sentiment analysis on posts from /r/investing (in this section we will be using the example given in txt below), which are finance oriented, so we can use the finBERT model ProsusAI/finbert which has been trained on financial articles for financial sentiment classification.\n",
        "\n",
        "FinBERT is ofcourse a BERT model, so when loading the model and tokenizer we will using BERT classes, and because we are performing sequence classification we will be using BertForSequenceClassification. Let's initialize our model and tokenizer:"
      ],
      "metadata": {
        "id": "J2kH0WzzPMsk"
      }
    },
    {
      "cell_type": "code",
      "source": [
        "from transformers import BertForSequenceClassification, BertTokenizer\n",
        "\n",
        "# initialize the tokenizer for BERT models\n",
        "tokenizer = BertTokenizer.from_pretrained('ProsusAI/finbert')\n",
        "# initialize the model for sequence classification\n",
        "model = BertForSequenceClassification.from_pretrained('ProsusAI/finbert')"
      ],
      "metadata": {
        "colab": {
          "base_uri": "https://localhost:8080/",
          "height": 177,
          "referenced_widgets": [
            "040811b10a5c4bdf832722418b3bcd12",
            "49775604295e41548b913d1c4e616f7e",
            "6493060c69514eaa9ad63e00ecdcbc79",
            "6e0f014e300b48cbb7490a2e71c22a5a",
            "8e8e240f3bb2409ebbc1363c2d74a7df",
            "7a30e20aa3cf441192094e1f5bfe5d5b",
            "9f34f4a288e445dfb4fcac9c3b3390f0",
            "a4778fbb91c04b9d814169a7b7bae0ec",
            "83a628a6b6a04d27afc6ea194886cb65",
            "7ec444f453cd428eb1aa2597164bf002",
            "1a3875e7715c4a7a8c4cfb02757f8e84",
            "c9dec983399d40a4a043f5481c13016a",
            "b42c5e462dcf4daf905bbb9417b7a9aa",
            "a613531bd44a42cf84b08d9b3b0c95cd",
            "b7dec57c0e4c4d659b8e6019b85bb206",
            "87bd92a96b5947b2a1d8b3c42f41a999",
            "e214bb30611d4ca79e0685b7c8249b04",
            "df904d1e77634a5e96a675190f5c89bf",
            "8eadedbbb16942559b6de6ed94531e96",
            "e512e0ecda9a4a2fada071b1cde10ff4",
            "47736bce96d042c4aa9bcfff630c4ad1",
            "14c4dcc9684342fd9d4e7c45179a5e38",
            "62699a6e14d04dcd93f2e57509b4eb24",
            "f8d4f938b7c9465f905fc97e197697a2",
            "5d0fa21c37ba411f95871408ef765d5e",
            "498838b465e14b20a49060f56599c5b1",
            "70635ad4b8ed46fba7faf3206a65629d",
            "14dfeeb4f515452c940285a999f5081f",
            "a6b1e545756c41c7aaa29fcfcd00db8e",
            "ee352d64770549018822d6302515f1eb",
            "973a232ded364c869eb05ca04b2599bc",
            "3fab38f5aba04a03ae66ab852f767284",
            "64270640ad5c4cbea8fa9d82b002e582",
            "f8d308494a334429a63ff28e0005e9f3",
            "e419f347e2ac4040a202438496412bfb",
            "661a7265192e4afc90f047f2b81e1f8b",
            "ad0ee814063d4ee88d1c61a501768510",
            "6dbf13da53ee478cb78b01a1a0d1db30",
            "4ff529ab3d0743f48b04013aef6382ab",
            "00b8af20d08748dfaa57d27447682e04",
            "f354b9718e5e4f529d490e89c3f2f126",
            "7f331e54d097412896d6b6e3e7e9062f",
            "3e4d5188c50b44cd8eac755ccc5846c9",
            "f937b7201bab422288b528132f6de64e",
            "dc6161d858e2482093ce59466241b51d",
            "641e9dc1241b4214a8d6f11d4b769e3f",
            "343bdae310794deeb4e83d96d088eb68",
            "227a83097b524388a05e5cf605efc56f",
            "04c685b717504dac8757018aa3ddf28c",
            "9154d3ebc6864dfc8d8b80737b22be84",
            "911c57f60f234f50a82c936b52f45455",
            "bb1a946e24194a5a9b6e314ee40e3e9a",
            "feb48b853dcb47db826da1c32304e498",
            "5113158ed9d74f7a834b4cffaba1f772",
            "aba69a5796b7479896528519603fe2d5"
          ]
        },
        "id": "b0HL6gIJO_8H",
        "outputId": "a9afbc94-8743-42ff-a035-bd05c8251ed8"
      },
      "execution_count": 12,
      "outputs": [
        {
          "output_type": "display_data",
          "data": {
            "application/vnd.jupyter.widget-view+json": {
              "model_id": "040811b10a5c4bdf832722418b3bcd12",
              "version_minor": 0,
              "version_major": 2
            },
            "text/plain": [
              "Downloading:   0%|          | 0.00/226k [00:00<?, ?B/s]"
            ]
          },
          "metadata": {}
        },
        {
          "output_type": "display_data",
          "data": {
            "application/vnd.jupyter.widget-view+json": {
              "model_id": "c9dec983399d40a4a043f5481c13016a",
              "version_minor": 0,
              "version_major": 2
            },
            "text/plain": [
              "Downloading:   0%|          | 0.00/112 [00:00<?, ?B/s]"
            ]
          },
          "metadata": {}
        },
        {
          "output_type": "display_data",
          "data": {
            "application/vnd.jupyter.widget-view+json": {
              "model_id": "62699a6e14d04dcd93f2e57509b4eb24",
              "version_minor": 0,
              "version_major": 2
            },
            "text/plain": [
              "Downloading:   0%|          | 0.00/252 [00:00<?, ?B/s]"
            ]
          },
          "metadata": {}
        },
        {
          "output_type": "display_data",
          "data": {
            "application/vnd.jupyter.widget-view+json": {
              "model_id": "f8d308494a334429a63ff28e0005e9f3",
              "version_minor": 0,
              "version_major": 2
            },
            "text/plain": [
              "Downloading:   0%|          | 0.00/758 [00:00<?, ?B/s]"
            ]
          },
          "metadata": {}
        },
        {
          "output_type": "display_data",
          "data": {
            "application/vnd.jupyter.widget-view+json": {
              "model_id": "dc6161d858e2482093ce59466241b51d",
              "version_minor": 0,
              "version_major": 2
            },
            "text/plain": [
              "Downloading:   0%|          | 0.00/418M [00:00<?, ?B/s]"
            ]
          },
          "metadata": {}
        }
      ]
    },
    {
      "cell_type": "markdown",
      "source": [
        "The first time that this is run when using the ProsusAI/finbert model, it will be downloaded from the HuggingFace model repositories. We will be following a very similar process to that which we worked through for our Flair sentiment classifier, with some added steps to convert model output activations to class predictions.\n",
        "\n",
        "1. We tokenize our input text.\n",
        "\n",
        "2. Tokenized inputs are fed into the model, which outputs final layer activations (note activations are not probabilities).\n",
        "\n",
        "3. Convert those activations into probabilities using a softmax function (sigmoid for multiple classes).\n",
        "\n",
        "4. Take the argmax of those probabilities.\n",
        "\n",
        "5. (Optional) Extract the probability of the winning class.\n",
        "\n",
        "For step one, we will use the encode_plus method:"
      ],
      "metadata": {
        "id": "riyKQcXaPWer"
      }
    },
    {
      "cell_type": "code",
      "source": [
        "len(txt.split())"
      ],
      "metadata": {
        "colab": {
          "base_uri": "https://localhost:8080/"
        },
        "id": "DHgsZYrlPoJa",
        "outputId": "3efb1a1b-d4a4-491b-ac82-f02f3a8df12f"
      },
      "execution_count": 15,
      "outputs": [
        {
          "output_type": "execute_result",
          "data": {
            "text/plain": [
              "111"
            ]
          },
          "metadata": {},
          "execution_count": 15
        }
      ]
    },
    {
      "cell_type": "code",
      "source": [
        "# this is our example text\n",
        "txt = (\"Given the recent downturn in stocks especially in tech which is likely to persist as yields keep going up, \"\n",
        "       \"I thought it would be prudent to share the risks of investing in ARK ETFs, written up very nicely by \"\n",
        "       \"[The Bear Cave](https://thebearcave.substack.com/p/special-edition-will-ark-invest-blow). The risks comes \"\n",
        "       \"primarily from ARK's illiquid and very large holdings in small cap companies. ARK is forced to sell its \"\n",
        "       \"holdings whenever its liquid ETF gets hit with outflows as is especially the case in market downturns. \"\n",
        "       \"This could force very painful liquidations at unfavorable prices and the ensuing crash goes into a \"\n",
        "       \"positive feedback loop leading into a death spiral enticing even more outflows and predatory shorts.\")\n",
        "\n",
        "tokens = tokenizer.encode_plus(txt, max_length=512, truncation=True, padding='max_length',\n",
        "                               add_special_tokens=True, return_tensors='pt')\n",
        "\n",
        "tokens"
      ],
      "metadata": {
        "colab": {
          "base_uri": "https://localhost:8080/"
        },
        "id": "r_GntQ2zPPjf",
        "outputId": "5ff6f87d-e5b8-4d69-81f8-4c84057b9d36"
      },
      "execution_count": 13,
      "outputs": [
        {
          "output_type": "execute_result",
          "data": {
            "text/plain": [
              "{'input_ids': tensor([[  101,  2445,  1996,  3522,  2091, 22299,  1999, 15768,  2926,  1999,\n",
              "          6627,  2029,  2003,  3497,  2000, 29486,  2004, 16189,  2562,  2183,\n",
              "          2039,  1010,  1045,  2245,  2009,  2052,  2022, 10975, 12672,  3372,\n",
              "          2000,  3745,  1996, 10831,  1997, 19920,  1999, 15745,  3802, 10343,\n",
              "          1010,  2517,  2039,  2200, 19957,  2011,  1031,  1996,  4562,  5430,\n",
              "          1033,  1006, 16770,  1024,  1013,  1013,  1996,  4783,  2906, 27454,\n",
              "          1012,  4942,  9153,  3600,  1012,  4012,  1013,  1052,  1013,  2569,\n",
              "          1011,  3179,  1011,  2097,  1011, 15745,  1011, 15697,  1011,  6271,\n",
              "          1007,  1012,  1996, 10831,  3310,  3952,  2013, 15745,  1005,  1055,\n",
              "          5665, 18515, 21272,  1998,  2200,  2312,  9583,  1999,  2235,  6178,\n",
              "          3316,  1012, 15745,  2003,  3140,  2000,  5271,  2049,  9583,  7188,\n",
              "          2049,  6381,  3802,  2546,  4152,  2718,  2007,  2041, 12314,  2015,\n",
              "          2004,  2003,  2926,  1996,  2553,  1999,  3006,  2091, 22299,  2015,\n",
              "          1012,  2023,  2071,  2486,  2200,  9145, 28763,  2015,  2012,  4895,\n",
              "          7011, 14550,  3085,  7597,  1998,  1996, 13831,  5823,  3632,  2046,\n",
              "          1037,  3893, 12247,  7077,  2877,  2046,  1037,  2331, 12313,  4372,\n",
              "          4588,  2075,  2130,  2062,  2041, 12314,  2015,  1998, 21659,  9132,\n",
              "          1012,   102,     0,     0,     0,     0,     0,     0,     0,     0,\n",
              "             0,     0,     0,     0,     0,     0,     0,     0,     0,     0,\n",
              "             0,     0,     0,     0,     0,     0,     0,     0,     0,     0,\n",
              "             0,     0,     0,     0,     0,     0,     0,     0,     0,     0,\n",
              "             0,     0,     0,     0,     0,     0,     0,     0,     0,     0,\n",
              "             0,     0,     0,     0,     0,     0,     0,     0,     0,     0,\n",
              "             0,     0,     0,     0,     0,     0,     0,     0,     0,     0,\n",
              "             0,     0,     0,     0,     0,     0,     0,     0,     0,     0,\n",
              "             0,     0,     0,     0,     0,     0,     0,     0,     0,     0,\n",
              "             0,     0,     0,     0,     0,     0,     0,     0,     0,     0,\n",
              "             0,     0,     0,     0,     0,     0,     0,     0,     0,     0,\n",
              "             0,     0,     0,     0,     0,     0,     0,     0,     0,     0,\n",
              "             0,     0,     0,     0,     0,     0,     0,     0,     0,     0,\n",
              "             0,     0,     0,     0,     0,     0,     0,     0,     0,     0,\n",
              "             0,     0,     0,     0,     0,     0,     0,     0,     0,     0,\n",
              "             0,     0,     0,     0,     0,     0,     0,     0,     0,     0,\n",
              "             0,     0,     0,     0,     0,     0,     0,     0,     0,     0,\n",
              "             0,     0,     0,     0,     0,     0,     0,     0,     0,     0,\n",
              "             0,     0,     0,     0,     0,     0,     0,     0,     0,     0,\n",
              "             0,     0,     0,     0,     0,     0,     0,     0,     0,     0,\n",
              "             0,     0,     0,     0,     0,     0,     0,     0,     0,     0,\n",
              "             0,     0,     0,     0,     0,     0,     0,     0,     0,     0,\n",
              "             0,     0,     0,     0,     0,     0,     0,     0,     0,     0,\n",
              "             0,     0,     0,     0,     0,     0,     0,     0,     0,     0,\n",
              "             0,     0,     0,     0,     0,     0,     0,     0,     0,     0,\n",
              "             0,     0,     0,     0,     0,     0,     0,     0,     0,     0,\n",
              "             0,     0,     0,     0,     0,     0,     0,     0,     0,     0,\n",
              "             0,     0,     0,     0,     0,     0,     0,     0,     0,     0,\n",
              "             0,     0,     0,     0,     0,     0,     0,     0,     0,     0,\n",
              "             0,     0,     0,     0,     0,     0,     0,     0,     0,     0,\n",
              "             0,     0,     0,     0,     0,     0,     0,     0,     0,     0,\n",
              "             0,     0,     0,     0,     0,     0,     0,     0,     0,     0,\n",
              "             0,     0,     0,     0,     0,     0,     0,     0,     0,     0,\n",
              "             0,     0,     0,     0,     0,     0,     0,     0,     0,     0,\n",
              "             0,     0]]), 'token_type_ids': tensor([[0, 0, 0, 0, 0, 0, 0, 0, 0, 0, 0, 0, 0, 0, 0, 0, 0, 0, 0, 0, 0, 0, 0, 0,\n",
              "         0, 0, 0, 0, 0, 0, 0, 0, 0, 0, 0, 0, 0, 0, 0, 0, 0, 0, 0, 0, 0, 0, 0, 0,\n",
              "         0, 0, 0, 0, 0, 0, 0, 0, 0, 0, 0, 0, 0, 0, 0, 0, 0, 0, 0, 0, 0, 0, 0, 0,\n",
              "         0, 0, 0, 0, 0, 0, 0, 0, 0, 0, 0, 0, 0, 0, 0, 0, 0, 0, 0, 0, 0, 0, 0, 0,\n",
              "         0, 0, 0, 0, 0, 0, 0, 0, 0, 0, 0, 0, 0, 0, 0, 0, 0, 0, 0, 0, 0, 0, 0, 0,\n",
              "         0, 0, 0, 0, 0, 0, 0, 0, 0, 0, 0, 0, 0, 0, 0, 0, 0, 0, 0, 0, 0, 0, 0, 0,\n",
              "         0, 0, 0, 0, 0, 0, 0, 0, 0, 0, 0, 0, 0, 0, 0, 0, 0, 0, 0, 0, 0, 0, 0, 0,\n",
              "         0, 0, 0, 0, 0, 0, 0, 0, 0, 0, 0, 0, 0, 0, 0, 0, 0, 0, 0, 0, 0, 0, 0, 0,\n",
              "         0, 0, 0, 0, 0, 0, 0, 0, 0, 0, 0, 0, 0, 0, 0, 0, 0, 0, 0, 0, 0, 0, 0, 0,\n",
              "         0, 0, 0, 0, 0, 0, 0, 0, 0, 0, 0, 0, 0, 0, 0, 0, 0, 0, 0, 0, 0, 0, 0, 0,\n",
              "         0, 0, 0, 0, 0, 0, 0, 0, 0, 0, 0, 0, 0, 0, 0, 0, 0, 0, 0, 0, 0, 0, 0, 0,\n",
              "         0, 0, 0, 0, 0, 0, 0, 0, 0, 0, 0, 0, 0, 0, 0, 0, 0, 0, 0, 0, 0, 0, 0, 0,\n",
              "         0, 0, 0, 0, 0, 0, 0, 0, 0, 0, 0, 0, 0, 0, 0, 0, 0, 0, 0, 0, 0, 0, 0, 0,\n",
              "         0, 0, 0, 0, 0, 0, 0, 0, 0, 0, 0, 0, 0, 0, 0, 0, 0, 0, 0, 0, 0, 0, 0, 0,\n",
              "         0, 0, 0, 0, 0, 0, 0, 0, 0, 0, 0, 0, 0, 0, 0, 0, 0, 0, 0, 0, 0, 0, 0, 0,\n",
              "         0, 0, 0, 0, 0, 0, 0, 0, 0, 0, 0, 0, 0, 0, 0, 0, 0, 0, 0, 0, 0, 0, 0, 0,\n",
              "         0, 0, 0, 0, 0, 0, 0, 0, 0, 0, 0, 0, 0, 0, 0, 0, 0, 0, 0, 0, 0, 0, 0, 0,\n",
              "         0, 0, 0, 0, 0, 0, 0, 0, 0, 0, 0, 0, 0, 0, 0, 0, 0, 0, 0, 0, 0, 0, 0, 0,\n",
              "         0, 0, 0, 0, 0, 0, 0, 0, 0, 0, 0, 0, 0, 0, 0, 0, 0, 0, 0, 0, 0, 0, 0, 0,\n",
              "         0, 0, 0, 0, 0, 0, 0, 0, 0, 0, 0, 0, 0, 0, 0, 0, 0, 0, 0, 0, 0, 0, 0, 0,\n",
              "         0, 0, 0, 0, 0, 0, 0, 0, 0, 0, 0, 0, 0, 0, 0, 0, 0, 0, 0, 0, 0, 0, 0, 0,\n",
              "         0, 0, 0, 0, 0, 0, 0, 0]]), 'attention_mask': tensor([[1, 1, 1, 1, 1, 1, 1, 1, 1, 1, 1, 1, 1, 1, 1, 1, 1, 1, 1, 1, 1, 1, 1, 1,\n",
              "         1, 1, 1, 1, 1, 1, 1, 1, 1, 1, 1, 1, 1, 1, 1, 1, 1, 1, 1, 1, 1, 1, 1, 1,\n",
              "         1, 1, 1, 1, 1, 1, 1, 1, 1, 1, 1, 1, 1, 1, 1, 1, 1, 1, 1, 1, 1, 1, 1, 1,\n",
              "         1, 1, 1, 1, 1, 1, 1, 1, 1, 1, 1, 1, 1, 1, 1, 1, 1, 1, 1, 1, 1, 1, 1, 1,\n",
              "         1, 1, 1, 1, 1, 1, 1, 1, 1, 1, 1, 1, 1, 1, 1, 1, 1, 1, 1, 1, 1, 1, 1, 1,\n",
              "         1, 1, 1, 1, 1, 1, 1, 1, 1, 1, 1, 1, 1, 1, 1, 1, 1, 1, 1, 1, 1, 1, 1, 1,\n",
              "         1, 1, 1, 1, 1, 1, 1, 1, 1, 1, 1, 1, 1, 1, 1, 1, 1, 1, 1, 1, 1, 1, 1, 1,\n",
              "         1, 1, 1, 1, 0, 0, 0, 0, 0, 0, 0, 0, 0, 0, 0, 0, 0, 0, 0, 0, 0, 0, 0, 0,\n",
              "         0, 0, 0, 0, 0, 0, 0, 0, 0, 0, 0, 0, 0, 0, 0, 0, 0, 0, 0, 0, 0, 0, 0, 0,\n",
              "         0, 0, 0, 0, 0, 0, 0, 0, 0, 0, 0, 0, 0, 0, 0, 0, 0, 0, 0, 0, 0, 0, 0, 0,\n",
              "         0, 0, 0, 0, 0, 0, 0, 0, 0, 0, 0, 0, 0, 0, 0, 0, 0, 0, 0, 0, 0, 0, 0, 0,\n",
              "         0, 0, 0, 0, 0, 0, 0, 0, 0, 0, 0, 0, 0, 0, 0, 0, 0, 0, 0, 0, 0, 0, 0, 0,\n",
              "         0, 0, 0, 0, 0, 0, 0, 0, 0, 0, 0, 0, 0, 0, 0, 0, 0, 0, 0, 0, 0, 0, 0, 0,\n",
              "         0, 0, 0, 0, 0, 0, 0, 0, 0, 0, 0, 0, 0, 0, 0, 0, 0, 0, 0, 0, 0, 0, 0, 0,\n",
              "         0, 0, 0, 0, 0, 0, 0, 0, 0, 0, 0, 0, 0, 0, 0, 0, 0, 0, 0, 0, 0, 0, 0, 0,\n",
              "         0, 0, 0, 0, 0, 0, 0, 0, 0, 0, 0, 0, 0, 0, 0, 0, 0, 0, 0, 0, 0, 0, 0, 0,\n",
              "         0, 0, 0, 0, 0, 0, 0, 0, 0, 0, 0, 0, 0, 0, 0, 0, 0, 0, 0, 0, 0, 0, 0, 0,\n",
              "         0, 0, 0, 0, 0, 0, 0, 0, 0, 0, 0, 0, 0, 0, 0, 0, 0, 0, 0, 0, 0, 0, 0, 0,\n",
              "         0, 0, 0, 0, 0, 0, 0, 0, 0, 0, 0, 0, 0, 0, 0, 0, 0, 0, 0, 0, 0, 0, 0, 0,\n",
              "         0, 0, 0, 0, 0, 0, 0, 0, 0, 0, 0, 0, 0, 0, 0, 0, 0, 0, 0, 0, 0, 0, 0, 0,\n",
              "         0, 0, 0, 0, 0, 0, 0, 0, 0, 0, 0, 0, 0, 0, 0, 0, 0, 0, 0, 0, 0, 0, 0, 0,\n",
              "         0, 0, 0, 0, 0, 0, 0, 0]])}"
            ]
          },
          "metadata": {},
          "execution_count": 13
        }
      ]
    },
    {
      "cell_type": "markdown",
      "source": [
        "Here we have specified a few arguments that require some explanation.\n",
        "\n",
        "- **max_length** - this tell the tokenizer the maximum number of tokens we want to see in each sample, for BERT we almost always use 512 as that is the length of sequences that BERT consumes.\n",
        "\n",
        "- **truncation** - if our input string txt contains more tokens than allowed (specified in max_length parameter) then we cut all tokens past the max_length limit.\n",
        "\n",
        "- **padding** - if our input string txt contains less tokens than specified by max_length then we pad the sequence with zeros (0 is the token ID for '[PAD]' - BERTs padding token).\n",
        "\n",
        "- **add_special_tokens** - whether or not to add special tokens, when using BERT we always want this to be True unless we are adding them ourselves."
      ],
      "metadata": {
        "id": "RkqsZgWzP1FP"
      }
    },
    {
      "cell_type": "markdown",
      "source": [
        "![image.png](data:image/png;base64,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)"
      ],
      "metadata": {
        "id": "iBM3cJMlQFdV"
      }
    },
    {
      "cell_type": "markdown",
      "source": [
        "Note that our tokenized sequence begins with 101, the seperator token 102 can be found seperating the input sequence and padding tokens 0.\n",
        "\n",
        "- **return_tensors** - here we specify either 'pt' to return PyTorch tensors, or 'tf' to return TensorFlow tensors.\n",
        "\n",
        "The output produced includes three tensors in a dictionary format, 'input_ids', 'token_type_ids', and 'attention_mask'. We can ignore 'token_type_ids' as they are not used by BERT, the other two tensors are however.\n",
        "\n",
        "- **'input_ids'** are the token ID representations of our input text. These will be passed into an embedding array where vector representations of each word will be found and passed into the following BERT layers.\n",
        "\n",
        "- **'attention_mask'** tells the attention layers in BERT which words to calculate attention for. If you look at this tensors you will see that each 1 value maps to an input ID from the 'input_ids' tensor, whereas each 0 value maps to a padding token from the 'attention_mask' tensor. In the attention layer (activations mapping to padding tokens are multiplied by 0, and so are cancelled out).\n",
        "\n",
        "Now that we have our tokenized input, we can pass it onto our model for inference. We pass in our tokens as \\*kwargs (key word arguments), which we can use thanks to our tokens being in a dictionary format. When a dictionary is passed as a \\*kwargs argument, the keys will be taken literally as variable names and the respective values become the variable values. So these two approaches would do the same thing:"
      ],
      "metadata": {
        "id": "D1TxKbTrQKnE"
      }
    },
    {
      "cell_type": "markdown",
      "source": [
        "![image.png](data:image/png;base64,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)"
      ],
      "metadata": {
        "id": "V2mZSB4FQh3M"
      }
    },
    {
      "cell_type": "code",
      "source": [
        "output = model(**tokens)\n",
        "\n",
        "output"
      ],
      "metadata": {
        "colab": {
          "base_uri": "https://localhost:8080/"
        },
        "id": "470PQf5KPiTt",
        "outputId": "11be3b61-5251-4aa1-833c-4587fad466fb"
      },
      "execution_count": 16,
      "outputs": [
        {
          "output_type": "execute_result",
          "data": {
            "text/plain": [
              "SequenceClassifierOutput([('logits',\n",
              "                           tensor([[-1.8200,  2.4484,  0.0216]], grad_fn=<AddmmBackward0>))])"
            ]
          },
          "metadata": {},
          "execution_count": 16
        }
      ]
    },
    {
      "cell_type": "markdown",
      "source": [
        "You will notice here that the output logits tensor cannot be a set of probabilities because probability values must be within the range 0-1. These are infact the final output activations from BERT, to convert these into probabilities we must apply a softmax function. We will be using the PyTorch implementation of softmax for this, which we import from torch.nn.functional."
      ],
      "metadata": {
        "id": "JMtceSMpQnre"
      }
    },
    {
      "cell_type": "code",
      "source": [
        "import torch.nn.functional as F \n",
        "# apply softmax to the logits output tensor of our model (in index 0) across dimension -1\n",
        "probs = F.softmax(output[0], dim=-1)\n",
        "\n",
        "probs"
      ],
      "metadata": {
        "colab": {
          "base_uri": "https://localhost:8080/"
        },
        "id": "nKIdOvIdQkW3",
        "outputId": "6da42d83-e629-418b-fc05-7ea9b1072514"
      },
      "execution_count": 17,
      "outputs": [
        {
          "output_type": "execute_result",
          "data": {
            "text/plain": [
              "tensor([[0.0127, 0.9072, 0.0801]], grad_fn=<SoftmaxBackward0>)"
            ]
          },
          "metadata": {},
          "execution_count": 17
        }
      ]
    },
    {
      "cell_type": "markdown",
      "source": [
        "(We use dim=-1 as -1 signifies our tensors final dimension, so if we had a 3D tensor with dims [0, 1, 2] writing dim=-1 is the equivalent to writing dim=2. In this case if we wrote dim=-2 this would be the equivalent to writing dim=1. For a 2D tensor with dims [0, 1], dim=-1 is the equivalent of dim=1.)\n",
        "\n",
        "Now we have a tensor containing three classes, all with outputs within the probability range of 0-1, these are our probabilities! We can see that class index 1 has the highest probability with a value of 0.9072. We can use PyTorch's argmax function to extract this, we can use argmax after importing torch."
      ],
      "metadata": {
        "id": "ZeYBL1RoQzwS"
      }
    },
    {
      "cell_type": "code",
      "source": [
        "import torch \n",
        "\n",
        "pred = torch.argmax(probs)\n",
        "\n",
        "pred"
      ],
      "metadata": {
        "colab": {
          "base_uri": "https://localhost:8080/"
        },
        "id": "Fald2MoSQv2I",
        "outputId": "ce03daf2-11d1-47f5-aae8-386170c1b3ca"
      },
      "execution_count": 18,
      "outputs": [
        {
          "output_type": "execute_result",
          "data": {
            "text/plain": [
              "tensor(1)"
            ]
          },
          "metadata": {},
          "execution_count": 18
        }
      ]
    },
    {
      "cell_type": "markdown",
      "source": [
        "Argmax outputs our winning class as 1 as expected. To convert this value from a PyTorch tensor to a Python integer we can use the item method.\n",
        "\n"
      ],
      "metadata": {
        "id": "G3hheVwRQ8FO"
      }
    },
    {
      "cell_type": "code",
      "source": [
        "pred.item()"
      ],
      "metadata": {
        "colab": {
          "base_uri": "https://localhost:8080/"
        },
        "id": "N0qmIFK-Q54-",
        "outputId": "6dc2196d-c9e1-43a7-bf91-2c2d8e1f32a8"
      },
      "execution_count": 19,
      "outputs": [
        {
          "output_type": "execute_result",
          "data": {
            "text/plain": [
              "1"
            ]
          },
          "metadata": {},
          "execution_count": 19
        }
      ]
    },
    {
      "cell_type": "code",
      "source": [
        ""
      ],
      "metadata": {
        "id": "7rtqlUZcQ9hJ"
      },
      "execution_count": null,
      "outputs": []
    }
  ]
}